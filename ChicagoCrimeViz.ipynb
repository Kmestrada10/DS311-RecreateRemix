{
 "cells": [
  {
   "cell_type": "code",
   "execution_count": 58,
   "metadata": {},
   "outputs": [
    {
     "data": {
      "text/html": [
       "<div>\n",
       "<style scoped>\n",
       "    .dataframe tbody tr th:only-of-type {\n",
       "        vertical-align: middle;\n",
       "    }\n",
       "\n",
       "    .dataframe tbody tr th {\n",
       "        vertical-align: top;\n",
       "    }\n",
       "\n",
       "    .dataframe thead th {\n",
       "        text-align: right;\n",
       "    }\n",
       "</style>\n",
       "<table border=\"1\" class=\"dataframe\">\n",
       "  <thead>\n",
       "    <tr style=\"text-align: right;\">\n",
       "      <th></th>\n",
       "      <th>id</th>\n",
       "      <th>case_number</th>\n",
       "      <th>date</th>\n",
       "      <th>block</th>\n",
       "      <th>iucr</th>\n",
       "      <th>primary_type</th>\n",
       "      <th>description</th>\n",
       "      <th>location_description</th>\n",
       "      <th>arrest</th>\n",
       "      <th>domestic</th>\n",
       "      <th>...</th>\n",
       "      <th>ward</th>\n",
       "      <th>community_area</th>\n",
       "      <th>fbi_code</th>\n",
       "      <th>x_coordinate</th>\n",
       "      <th>y_coordinate</th>\n",
       "      <th>year</th>\n",
       "      <th>updated_on</th>\n",
       "      <th>latitude</th>\n",
       "      <th>longitude</th>\n",
       "      <th>location</th>\n",
       "    </tr>\n",
       "  </thead>\n",
       "  <tbody>\n",
       "    <tr>\n",
       "      <th>0</th>\n",
       "      <td>13757563</td>\n",
       "      <td>JJ159806</td>\n",
       "      <td>2025-02-24 00:00:00</td>\n",
       "      <td>106XX S OGLESBY AVE</td>\n",
       "      <td>1320</td>\n",
       "      <td>CRIMINAL DAMAGE</td>\n",
       "      <td>TO VEHICLE</td>\n",
       "      <td>STREET</td>\n",
       "      <td>False</td>\n",
       "      <td>False</td>\n",
       "      <td>...</td>\n",
       "      <td>10</td>\n",
       "      <td>51</td>\n",
       "      <td>14</td>\n",
       "      <td>1194026</td>\n",
       "      <td>1835043</td>\n",
       "      <td>2025</td>\n",
       "      <td>2025-03-03T15:41:36.000</td>\n",
       "      <td>41.702293529</td>\n",
       "      <td>-87.565139627</td>\n",
       "      <td>{'latitude': '41.702293529', 'longitude': '-87...</td>\n",
       "    </tr>\n",
       "    <tr>\n",
       "      <th>1</th>\n",
       "      <td>13763346</td>\n",
       "      <td>JJ167090</td>\n",
       "      <td>2025-02-24 00:00:00</td>\n",
       "      <td>088XX S WOOD ST</td>\n",
       "      <td>1170</td>\n",
       "      <td>DECEPTIVE PRACTICE</td>\n",
       "      <td>IMPERSONATION</td>\n",
       "      <td>RESIDENCE</td>\n",
       "      <td>False</td>\n",
       "      <td>False</td>\n",
       "      <td>...</td>\n",
       "      <td>18</td>\n",
       "      <td>71</td>\n",
       "      <td>11</td>\n",
       "      <td>NaN</td>\n",
       "      <td>NaN</td>\n",
       "      <td>2025</td>\n",
       "      <td>2025-03-03T15:41:36.000</td>\n",
       "      <td>NaN</td>\n",
       "      <td>NaN</td>\n",
       "      <td>NaN</td>\n",
       "    </tr>\n",
       "    <tr>\n",
       "      <th>2</th>\n",
       "      <td>13760970</td>\n",
       "      <td>JJ164037</td>\n",
       "      <td>2025-02-24 00:00:00</td>\n",
       "      <td>055XX S EMERALD AVE</td>\n",
       "      <td>0820</td>\n",
       "      <td>THEFT</td>\n",
       "      <td>$500 AND UNDER</td>\n",
       "      <td>RESIDENCE</td>\n",
       "      <td>False</td>\n",
       "      <td>True</td>\n",
       "      <td>...</td>\n",
       "      <td>16</td>\n",
       "      <td>68</td>\n",
       "      <td>06</td>\n",
       "      <td>1172246</td>\n",
       "      <td>1868093</td>\n",
       "      <td>2025</td>\n",
       "      <td>2025-03-03T15:41:36.000</td>\n",
       "      <td>41.793492485</td>\n",
       "      <td>-87.64392184</td>\n",
       "      <td>{'latitude': '41.793492485', 'longitude': '-87...</td>\n",
       "    </tr>\n",
       "    <tr>\n",
       "      <th>3</th>\n",
       "      <td>13757812</td>\n",
       "      <td>JJ160305</td>\n",
       "      <td>2025-02-24 00:00:00</td>\n",
       "      <td>072XX S PAULINA ST</td>\n",
       "      <td>0910</td>\n",
       "      <td>MOTOR VEHICLE THEFT</td>\n",
       "      <td>AUTOMOBILE</td>\n",
       "      <td>STREET</td>\n",
       "      <td>False</td>\n",
       "      <td>False</td>\n",
       "      <td>...</td>\n",
       "      <td>17</td>\n",
       "      <td>67</td>\n",
       "      <td>07</td>\n",
       "      <td>1166266</td>\n",
       "      <td>1856649</td>\n",
       "      <td>2025</td>\n",
       "      <td>2025-03-03T15:41:36.000</td>\n",
       "      <td>41.762218185</td>\n",
       "      <td>-87.666175568</td>\n",
       "      <td>{'latitude': '41.762218185', 'longitude': '-87...</td>\n",
       "    </tr>\n",
       "    <tr>\n",
       "      <th>4</th>\n",
       "      <td>13757547</td>\n",
       "      <td>JJ160082</td>\n",
       "      <td>2025-02-24 00:00:00</td>\n",
       "      <td>002XX W MONROE ST</td>\n",
       "      <td>2820</td>\n",
       "      <td>OTHER OFFENSE</td>\n",
       "      <td>TELEPHONE THREAT</td>\n",
       "      <td>RESTAURANT</td>\n",
       "      <td>False</td>\n",
       "      <td>False</td>\n",
       "      <td>...</td>\n",
       "      <td>42</td>\n",
       "      <td>32</td>\n",
       "      <td>08A</td>\n",
       "      <td>1174585</td>\n",
       "      <td>1899875</td>\n",
       "      <td>2025</td>\n",
       "      <td>2025-03-03T15:41:36.000</td>\n",
       "      <td>41.880653112</td>\n",
       "      <td>-87.634396649</td>\n",
       "      <td>{'latitude': '41.880653112', 'longitude': '-87...</td>\n",
       "    </tr>\n",
       "    <tr>\n",
       "      <th>...</th>\n",
       "      <td>...</td>\n",
       "      <td>...</td>\n",
       "      <td>...</td>\n",
       "      <td>...</td>\n",
       "      <td>...</td>\n",
       "      <td>...</td>\n",
       "      <td>...</td>\n",
       "      <td>...</td>\n",
       "      <td>...</td>\n",
       "      <td>...</td>\n",
       "      <td>...</td>\n",
       "      <td>...</td>\n",
       "      <td>...</td>\n",
       "      <td>...</td>\n",
       "      <td>...</td>\n",
       "      <td>...</td>\n",
       "      <td>...</td>\n",
       "      <td>...</td>\n",
       "      <td>...</td>\n",
       "      <td>...</td>\n",
       "      <td>...</td>\n",
       "    </tr>\n",
       "    <tr>\n",
       "      <th>4995</th>\n",
       "      <td>13749084</td>\n",
       "      <td>JJ149952</td>\n",
       "      <td>2025-02-14 17:40:00</td>\n",
       "      <td>109XX S DOTY AVE W</td>\n",
       "      <td>0860</td>\n",
       "      <td>THEFT</td>\n",
       "      <td>RETAIL THEFT</td>\n",
       "      <td>GROCERY FOOD STORE</td>\n",
       "      <td>True</td>\n",
       "      <td>False</td>\n",
       "      <td>...</td>\n",
       "      <td>9</td>\n",
       "      <td>50</td>\n",
       "      <td>06</td>\n",
       "      <td>1185440</td>\n",
       "      <td>1832668</td>\n",
       "      <td>2025</td>\n",
       "      <td>2025-02-22T16:03:07.000</td>\n",
       "      <td>41.695982095</td>\n",
       "      <td>-87.596653142</td>\n",
       "      <td>{'latitude': '41.695982095', 'longitude': '-87...</td>\n",
       "    </tr>\n",
       "    <tr>\n",
       "      <th>4996</th>\n",
       "      <td>13749184</td>\n",
       "      <td>JJ149876</td>\n",
       "      <td>2025-02-14 17:36:00</td>\n",
       "      <td>060XX S WABASH AVE</td>\n",
       "      <td>031A</td>\n",
       "      <td>ROBBERY</td>\n",
       "      <td>ARMED - HANDGUN</td>\n",
       "      <td>ALLEY</td>\n",
       "      <td>False</td>\n",
       "      <td>False</td>\n",
       "      <td>...</td>\n",
       "      <td>20</td>\n",
       "      <td>40</td>\n",
       "      <td>03</td>\n",
       "      <td>1177750</td>\n",
       "      <td>1865019</td>\n",
       "      <td>2025</td>\n",
       "      <td>2025-02-22T16:03:07.000</td>\n",
       "      <td>41.784934232</td>\n",
       "      <td>-87.623832282</td>\n",
       "      <td>{'latitude': '41.784934232', 'longitude': '-87...</td>\n",
       "    </tr>\n",
       "    <tr>\n",
       "      <th>4997</th>\n",
       "      <td>13749022</td>\n",
       "      <td>JJ149854</td>\n",
       "      <td>2025-02-14 17:30:00</td>\n",
       "      <td>009XX N LARAMIE AVE</td>\n",
       "      <td>0910</td>\n",
       "      <td>MOTOR VEHICLE THEFT</td>\n",
       "      <td>AUTOMOBILE</td>\n",
       "      <td>RESIDENCE - GARAGE</td>\n",
       "      <td>False</td>\n",
       "      <td>False</td>\n",
       "      <td>...</td>\n",
       "      <td>37</td>\n",
       "      <td>25</td>\n",
       "      <td>07</td>\n",
       "      <td>1141518</td>\n",
       "      <td>1905847</td>\n",
       "      <td>2025</td>\n",
       "      <td>2025-02-22T16:03:07.000</td>\n",
       "      <td>41.8977158</td>\n",
       "      <td>-87.755669081</td>\n",
       "      <td>{'latitude': '41.8977158', 'longitude': '-87.7...</td>\n",
       "    </tr>\n",
       "    <tr>\n",
       "      <th>4998</th>\n",
       "      <td>13749101</td>\n",
       "      <td>JJ149933</td>\n",
       "      <td>2025-02-14 17:30:00</td>\n",
       "      <td>039XX W LAWRENCE AVE</td>\n",
       "      <td>1320</td>\n",
       "      <td>CRIMINAL DAMAGE</td>\n",
       "      <td>TO VEHICLE</td>\n",
       "      <td>PARKING LOT / GARAGE (NON RESIDENTIAL)</td>\n",
       "      <td>False</td>\n",
       "      <td>False</td>\n",
       "      <td>...</td>\n",
       "      <td>33</td>\n",
       "      <td>14</td>\n",
       "      <td>14</td>\n",
       "      <td>1149058</td>\n",
       "      <td>1931603</td>\n",
       "      <td>2025</td>\n",
       "      <td>2025-02-22T16:03:07.000</td>\n",
       "      <td>41.968249849</td>\n",
       "      <td>-87.727306531</td>\n",
       "      <td>{'latitude': '41.968249849', 'longitude': '-87...</td>\n",
       "    </tr>\n",
       "    <tr>\n",
       "      <th>4999</th>\n",
       "      <td>13749185</td>\n",
       "      <td>JJ149915</td>\n",
       "      <td>2025-02-14 17:30:00</td>\n",
       "      <td>071XX S JEFFERY BLVD</td>\n",
       "      <td>0860</td>\n",
       "      <td>THEFT</td>\n",
       "      <td>RETAIL THEFT</td>\n",
       "      <td>SMALL RETAIL STORE</td>\n",
       "      <td>False</td>\n",
       "      <td>False</td>\n",
       "      <td>...</td>\n",
       "      <td>5</td>\n",
       "      <td>43</td>\n",
       "      <td>06</td>\n",
       "      <td>1190784</td>\n",
       "      <td>1857880</td>\n",
       "      <td>2025</td>\n",
       "      <td>2025-02-22T16:03:07.000</td>\n",
       "      <td>41.765039197</td>\n",
       "      <td>-87.57627519</td>\n",
       "      <td>{'latitude': '41.765039197', 'longitude': '-87...</td>\n",
       "    </tr>\n",
       "  </tbody>\n",
       "</table>\n",
       "<p>5000 rows × 22 columns</p>\n",
       "</div>"
      ],
      "text/plain": [
       "            id case_number                date                 block  iucr  \\\n",
       "0     13757563    JJ159806 2025-02-24 00:00:00   106XX S OGLESBY AVE  1320   \n",
       "1     13763346    JJ167090 2025-02-24 00:00:00       088XX S WOOD ST  1170   \n",
       "2     13760970    JJ164037 2025-02-24 00:00:00   055XX S EMERALD AVE  0820   \n",
       "3     13757812    JJ160305 2025-02-24 00:00:00    072XX S PAULINA ST  0910   \n",
       "4     13757547    JJ160082 2025-02-24 00:00:00     002XX W MONROE ST  2820   \n",
       "...        ...         ...                 ...                   ...   ...   \n",
       "4995  13749084    JJ149952 2025-02-14 17:40:00    109XX S DOTY AVE W  0860   \n",
       "4996  13749184    JJ149876 2025-02-14 17:36:00    060XX S WABASH AVE  031A   \n",
       "4997  13749022    JJ149854 2025-02-14 17:30:00   009XX N LARAMIE AVE  0910   \n",
       "4998  13749101    JJ149933 2025-02-14 17:30:00  039XX W LAWRENCE AVE  1320   \n",
       "4999  13749185    JJ149915 2025-02-14 17:30:00  071XX S JEFFERY BLVD  0860   \n",
       "\n",
       "             primary_type       description  \\\n",
       "0         CRIMINAL DAMAGE        TO VEHICLE   \n",
       "1      DECEPTIVE PRACTICE     IMPERSONATION   \n",
       "2                   THEFT    $500 AND UNDER   \n",
       "3     MOTOR VEHICLE THEFT        AUTOMOBILE   \n",
       "4           OTHER OFFENSE  TELEPHONE THREAT   \n",
       "...                   ...               ...   \n",
       "4995                THEFT      RETAIL THEFT   \n",
       "4996              ROBBERY   ARMED - HANDGUN   \n",
       "4997  MOTOR VEHICLE THEFT        AUTOMOBILE   \n",
       "4998      CRIMINAL DAMAGE        TO VEHICLE   \n",
       "4999                THEFT      RETAIL THEFT   \n",
       "\n",
       "                        location_description  arrest  domestic  ... ward  \\\n",
       "0                                     STREET   False     False  ...   10   \n",
       "1                                  RESIDENCE   False     False  ...   18   \n",
       "2                                  RESIDENCE   False      True  ...   16   \n",
       "3                                     STREET   False     False  ...   17   \n",
       "4                                 RESTAURANT   False     False  ...   42   \n",
       "...                                      ...     ...       ...  ...  ...   \n",
       "4995                      GROCERY FOOD STORE    True     False  ...    9   \n",
       "4996                                   ALLEY   False     False  ...   20   \n",
       "4997                      RESIDENCE - GARAGE   False     False  ...   37   \n",
       "4998  PARKING LOT / GARAGE (NON RESIDENTIAL)   False     False  ...   33   \n",
       "4999                      SMALL RETAIL STORE   False     False  ...    5   \n",
       "\n",
       "     community_area fbi_code x_coordinate y_coordinate  year  \\\n",
       "0                51       14      1194026      1835043  2025   \n",
       "1                71       11          NaN          NaN  2025   \n",
       "2                68       06      1172246      1868093  2025   \n",
       "3                67       07      1166266      1856649  2025   \n",
       "4                32      08A      1174585      1899875  2025   \n",
       "...             ...      ...          ...          ...   ...   \n",
       "4995             50       06      1185440      1832668  2025   \n",
       "4996             40       03      1177750      1865019  2025   \n",
       "4997             25       07      1141518      1905847  2025   \n",
       "4998             14       14      1149058      1931603  2025   \n",
       "4999             43       06      1190784      1857880  2025   \n",
       "\n",
       "                   updated_on      latitude      longitude  \\\n",
       "0     2025-03-03T15:41:36.000  41.702293529  -87.565139627   \n",
       "1     2025-03-03T15:41:36.000           NaN            NaN   \n",
       "2     2025-03-03T15:41:36.000  41.793492485   -87.64392184   \n",
       "3     2025-03-03T15:41:36.000  41.762218185  -87.666175568   \n",
       "4     2025-03-03T15:41:36.000  41.880653112  -87.634396649   \n",
       "...                       ...           ...            ...   \n",
       "4995  2025-02-22T16:03:07.000  41.695982095  -87.596653142   \n",
       "4996  2025-02-22T16:03:07.000  41.784934232  -87.623832282   \n",
       "4997  2025-02-22T16:03:07.000    41.8977158  -87.755669081   \n",
       "4998  2025-02-22T16:03:07.000  41.968249849  -87.727306531   \n",
       "4999  2025-02-22T16:03:07.000  41.765039197   -87.57627519   \n",
       "\n",
       "                                               location  \n",
       "0     {'latitude': '41.702293529', 'longitude': '-87...  \n",
       "1                                                   NaN  \n",
       "2     {'latitude': '41.793492485', 'longitude': '-87...  \n",
       "3     {'latitude': '41.762218185', 'longitude': '-87...  \n",
       "4     {'latitude': '41.880653112', 'longitude': '-87...  \n",
       "...                                                 ...  \n",
       "4995  {'latitude': '41.695982095', 'longitude': '-87...  \n",
       "4996  {'latitude': '41.784934232', 'longitude': '-87...  \n",
       "4997  {'latitude': '41.8977158', 'longitude': '-87.7...  \n",
       "4998  {'latitude': '41.968249849', 'longitude': '-87...  \n",
       "4999  {'latitude': '41.765039197', 'longitude': '-87...  \n",
       "\n",
       "[5000 rows x 22 columns]"
      ]
     },
     "metadata": {},
     "output_type": "display_data"
    }
   ],
   "source": [
    "import requests\n",
    "import pandas as pd\n",
    "from IPython.display import display\n",
    "\n",
    "# City of Chicago Crime Data API Endpoint\n",
    "API_URL = \"https://data.cityofchicago.org/resource/ijzp-q8t2.json\"\n",
    "\n",
    "# Define date range for filtering (2015 to today)\n",
    "params = {\n",
    "    \"$limit\": 5000,  # Increase limit to gather more data\n",
    "    \"$where\": \"date >= '2015-01-01T00:00:00' AND date < '2025-12-31T23:59:59'\",  # Filter for 2015 - Today\n",
    "    \"$order\": \"date DESC\"  # Get the most recent crimes first\n",
    "}\n",
    "\n",
    "# Fetch data from the API\n",
    "response = requests.get(API_URL, params=params)\n",
    "\n",
    "# Check if the request was successful\n",
    "if response.status_code == 200:\n",
    "    data = response.json()\n",
    "    \n",
    "    # Convert data to a Pandas DataFrame\n",
    "    df = pd.DataFrame(data)\n",
    "\n",
    "    # Convert date column to datetime format (if available)\n",
    "    if \"date\" in df.columns:\n",
    "        df[\"date\"] = pd.to_datetime(df[\"date\"], errors=\"coerce\")\n",
    "\n",
    "    # Display the DataFrame in Jupyter Notebook / VS Code\n",
    "    display(df)\n",
    "\n",
    "else:\n",
    "    print(f\"Error: Unable to fetch data (Status Code: {response.status_code})\")\n"
   ]
  },
  {
   "cell_type": "code",
   "execution_count": 65,
   "metadata": {},
   "outputs": [
    {
     "name": "stderr",
     "output_type": "stream",
     "text": [
      "C:\\Users\\Kevin\\AppData\\Local\\Temp\\ipykernel_632\\3592370841.py:8: UserWarning:\n",
      "\n",
      "Could not infer format, so each element will be parsed individually, falling back to `dateutil`. To ensure parsing is consistent and as-expected, please specify a format.\n",
      "\n"
     ]
    },
    {
     "data": {
      "application/vnd.plotly.v1+json": {
       "config": {
        "plotlyServerURL": "https://plot.ly"
       },
       "data": [
        {
         "hoverinfo": "x+y+name",
         "hovertemplate": "<b>Rolling Average:</b> %{text}<br><b>Year:</b> 2019<br><b>Week:</b> %{x}<br><b>Total Fatal and Non-Fatal Shootings:</b> %{y}",
         "line": {
          "color": "#A99A93"
         },
         "mode": "lines+markers",
         "name": "2019",
         "text": [
          "7-day",
          "7-day",
          "7-day",
          "7-day",
          "7-day",
          "7-day",
          "7-day",
          "7-day",
          "7-day",
          "7-day",
          "7-day",
          "7-day",
          "7-day",
          "7-day",
          "7-day",
          "7-day",
          "7-day",
          "7-day",
          "7-day",
          "7-day",
          "7-day",
          "7-day",
          "7-day",
          "7-day",
          "7-day",
          "7-day",
          "7-day",
          "7-day",
          "7-day",
          "7-day",
          "7-day",
          "7-day",
          "7-day",
          "7-day",
          "7-day",
          "7-day",
          "7-day",
          "7-day",
          "7-day",
          "7-day",
          "7-day",
          "7-day",
          "7-day",
          "7-day",
          "7-day",
          "7-day",
          "7-day",
          "7-day",
          "7-day",
          "7-day",
          "7-day",
          "7-day",
          "7-day"
         ],
         "type": "scatter",
         "x": {
          "bdata": "AQAAAAIAAAADAAAABAAAAAUAAAAGAAAABwAAAAgAAAAJAAAACgAAAAsAAAAMAAAADQAAAA4AAAAPAAAAEAAAABEAAAASAAAAEwAAABQAAAAVAAAAFgAAABcAAAAYAAAAGQAAABoAAAAbAAAAHAAAAB0AAAAeAAAAHwAAACAAAAAhAAAAIgAAACMAAAAkAAAAJQAAACYAAAAnAAAAKAAAACkAAAAqAAAAKwAAACwAAAAtAAAALgAAAC8AAAAwAAAAMQAAADIAAAAzAAAANAAAADUAAAA=",
          "dtype": "u4"
         },
         "y": {
          "bdata": "AAAAAAAAGEAAAAAAAAAcQAAAAAAAABRAAAAAAAAAAEAAAAAAAAAqQAAAAAAAACBAAAAAAAAAFEAAAAAAAAAQQAAAAAAAABRAAAAAAAAAEEAAAAAAAAAiQAAAAAAAACBAAAAAAAAALkAAAAAAAAAyQAAAAAAAACpAAAAAAAAALkAAAAAAAAAuQAAAAAAAACpAAAAAAAAAIkAAAAAAAAAmQAAAAAAAACpAAAAAAAAANUAAAAAAAAAuQAAAAAAAACZAAAAAAAAALEAAAAAAAAAcQAAAAAAAAChAAAAAAAAALEAAAAAAAAAYQAAAAAAAACxAAAAAAAAAJkAAAAAAAAAcQAAAAAAAACBAAAAAAAAALEAAAAAAAAAwQAAAAAAAACJAAAAAAAAAMUAAAAAAAAAmQAAAAAAAACxAAAAAAAAAKEAAAAAAAAAoQAAAAAAAABxAAAAAAAAAJkAAAAAAAAAYQAAAAAAAAChAAAAAAAAAIEAAAAAAAAAcQAAAAAAAABhAAAAAAAAAIEAAAAAAAAAUQAAAAAAAACBAAAAAAAAAJEAAAAAAAAD4fw==",
          "dtype": "f8"
         }
        },
        {
         "hoverinfo": "x+y+name",
         "hovertemplate": "<b>Rolling Average:</b> %{text}<br><b>Year:</b> 2020<br><b>Week:</b> %{x}<br><b>Total Fatal and Non-Fatal Shootings:</b> %{y}",
         "line": {
          "color": "#7D726E"
         },
         "mode": "lines+markers",
         "name": "2020",
         "text": [
          "7-day",
          "7-day",
          "7-day",
          "7-day",
          "7-day",
          "7-day",
          "7-day",
          "7-day",
          "7-day",
          "7-day",
          "7-day",
          "7-day",
          "7-day",
          "7-day",
          "7-day",
          "7-day",
          "7-day",
          "7-day",
          "7-day",
          "7-day",
          "7-day",
          "7-day",
          "7-day",
          "7-day",
          "7-day",
          "7-day",
          "7-day",
          "7-day",
          "7-day",
          "7-day",
          "7-day",
          "7-day",
          "7-day",
          "7-day",
          "7-day",
          "7-day",
          "7-day",
          "7-day",
          "7-day",
          "7-day",
          "7-day",
          "7-day",
          "7-day",
          "7-day",
          "7-day",
          "7-day",
          "7-day",
          "7-day",
          "7-day",
          "7-day",
          "7-day",
          "7-day",
          "7-day"
         ],
         "type": "scatter",
         "x": {
          "bdata": "AQAAAAIAAAADAAAABAAAAAUAAAAGAAAABwAAAAgAAAAJAAAACgAAAAsAAAAMAAAADQAAAA4AAAAPAAAAEAAAABEAAAASAAAAEwAAABQAAAAVAAAAFgAAABcAAAAYAAAAGQAAABoAAAAbAAAAHAAAAB0AAAAeAAAAHwAAACAAAAAhAAAAIgAAACMAAAAkAAAAJQAAACYAAAAnAAAAKAAAACkAAAAqAAAAKwAAACwAAAAtAAAALgAAAC8AAAAwAAAAMQAAADIAAAAzAAAANAAAADUAAAA=",
          "dtype": "u4"
         },
         "y": {
          "bdata": "AAAAAAAAJEAAAAAAAAAQQAAAAAAAACRAAAAAAAAAHEAAAAAAAAAgQAAAAAAAAChAAAAAAAAAGEAAAAAAAAAkQAAAAAAAAChAAAAAAAAAJEAAAAAAAAAYQAAAAAAAABBAAAAAAAAAGEAAAAAAAAAkQAAAAAAAADVAAAAAAAAALEAAAAAAAAAmQAAAAAAAACJAAAAAAAAAMEAAAAAAAAAoQAAAAAAAACpAAAAAAACAREAAAAAAAAA3QAAAAAAAACZAAAAAAAAAQEAAAAAAAAA+QAAAAAAAAEBAAAAAAAAAQEAAAAAAAAA9QAAAAAAAADRAAAAAAAAAMkAAAAAAAAAkQAAAAAAAADBAAAAAAAAALEAAAAAAAAA1QAAAAAAAADRAAAAAAAAANUAAAAAAAAAuQAAAAAAAADdAAAAAAAAAMUAAAAAAAAAwQAAAAAAAADZAAAAAAAAAJkAAAAAAAAAuQAAAAAAAADZAAAAAAAAAMUAAAAAAAAAiQAAAAAAAADBAAAAAAAAAJkAAAAAAAAAkQAAAAAAAACZAAAAAAAAAKkAAAAAAAAAcQA==",
          "dtype": "f8"
         }
        },
        {
         "hoverinfo": "x+y+name",
         "hovertemplate": "<b>Rolling Average:</b> %{text}<br><b>Year:</b> 2021<br><b>Week:</b> %{x}<br><b>Total Fatal and Non-Fatal Shootings:</b> %{y}",
         "line": {
          "color": "#524D49"
         },
         "mode": "lines+markers",
         "name": "2021",
         "text": [
          "7-day",
          "7-day",
          "7-day",
          "7-day",
          "7-day",
          "7-day",
          "7-day",
          "7-day",
          "7-day",
          "7-day",
          "7-day",
          "7-day",
          "7-day",
          "7-day",
          "7-day",
          "7-day",
          "7-day",
          "7-day",
          "7-day",
          "7-day",
          "7-day",
          "7-day",
          "7-day",
          "7-day",
          "7-day",
          "7-day",
          "7-day",
          "7-day",
          "7-day",
          "7-day",
          "7-day",
          "7-day",
          "7-day",
          "7-day",
          "7-day",
          "7-day",
          "7-day",
          "7-day",
          "7-day",
          "7-day",
          "7-day",
          "7-day",
          "7-day",
          "7-day",
          "7-day",
          "7-day",
          "7-day",
          "7-day",
          "7-day",
          "7-day",
          "7-day",
          "7-day",
          "7-day"
         ],
         "type": "scatter",
         "x": {
          "bdata": "AQAAAAIAAAADAAAABAAAAAUAAAAGAAAABwAAAAgAAAAJAAAACgAAAAsAAAAMAAAADQAAAA4AAAAPAAAAEAAAABEAAAASAAAAEwAAABQAAAAVAAAAFgAAABcAAAAYAAAAGQAAABoAAAAbAAAAHAAAAB0AAAAeAAAAHwAAACAAAAAhAAAAIgAAACMAAAAkAAAAJQAAACYAAAAnAAAAKAAAACkAAAAqAAAAKwAAACwAAAAtAAAALgAAAC8AAAAwAAAAMQAAADIAAAAzAAAANAAAADUAAAA=",
          "dtype": "u4"
         },
         "y": {
          "bdata": "AAAAAAAAMUAAAAAAAAAsQAAAAAAAAChAAAAAAAAAIkAAAAAAAAAcQAAAAAAAACJAAAAAAAAAIkAAAAAAAAAmQAAAAAAAACBAAAAAAAAAOkAAAAAAAAAgQAAAAAAAADZAAAAAAAAAJkAAAAAAAAAsQAAAAAAAADFAAAAAAAAAIkAAAAAAAAAqQAAAAAAAACZAAAAAAAAALkAAAAAAAAA0QAAAAAAAACxAAAAAAAAAMUAAAAAAAAAxQAAAAAAAAD1AAAAAAAAANkAAAAAAAAA6QAAAAAAAAEBAAAAAAAAANUAAAAAAAAA2QAAAAAAAADNAAAAAAAAAOEAAAAAAAAA1QAAAAAAAADhAAAAAAAAAIkAAAAAAAAA0QAAAAAAAADJAAAAAAAAAPkAAAAAAAAAyQAAAAAAAADZAAAAAAAAAKkAAAAAAAAAmQAAAAAAAAC5AAAAAAAAALEAAAAAAAAAyQAAAAAAAACpAAAAAAAAALEAAAAAAAAAqQAAAAAAAAC5AAAAAAAAAKEAAAAAAAAAuQAAAAAAAACRAAAAAAAAAAEAAAAAAAAAUQA==",
          "dtype": "f8"
         }
        },
        {
         "hoverinfo": "x+y+name",
         "hovertemplate": "<b>Rolling Average:</b> %{text}<br><b>Year:</b> 2022<br><b>Week:</b> %{x}<br><b>Total Fatal and Non-Fatal Shootings:</b> %{y}",
         "line": {
          "color": "#C0B5AF"
         },
         "mode": "lines+markers",
         "name": "2022",
         "text": [
          "7-day",
          "7-day",
          "7-day",
          "7-day",
          "7-day",
          "7-day",
          "7-day",
          "7-day",
          "7-day",
          "7-day",
          "7-day",
          "7-day",
          "7-day",
          "7-day",
          "7-day",
          "7-day",
          "7-day",
          "7-day",
          "7-day",
          "7-day",
          "7-day",
          "7-day",
          "7-day",
          "7-day",
          "7-day",
          "7-day",
          "7-day",
          "7-day",
          "7-day",
          "7-day",
          "7-day",
          "7-day",
          "7-day",
          "7-day",
          "7-day",
          "7-day",
          "7-day",
          "7-day",
          "7-day",
          "7-day",
          "7-day",
          "7-day",
          "7-day",
          "7-day",
          "7-day",
          "7-day",
          "7-day",
          "7-day",
          "7-day",
          "7-day",
          "7-day",
          "7-day",
          "7-day"
         ],
         "type": "scatter",
         "x": {
          "bdata": "AQAAAAIAAAADAAAABAAAAAUAAAAGAAAABwAAAAgAAAAJAAAACgAAAAsAAAAMAAAADQAAAA4AAAAPAAAAEAAAABEAAAASAAAAEwAAABQAAAAVAAAAFgAAABcAAAAYAAAAGQAAABoAAAAbAAAAHAAAAB0AAAAeAAAAHwAAACAAAAAhAAAAIgAAACMAAAAkAAAAJQAAACYAAAAnAAAAKAAAACkAAAAqAAAAKwAAACwAAAAtAAAALgAAAC8AAAAwAAAAMQAAADIAAAAzAAAANAAAADUAAAA=",
          "dtype": "u4"
         },
         "y": {
          "bdata": "AAAAAAAAGEAAAAAAAAAoQAAAAAAAAC5AAAAAAAAAJkAAAAAAAAAsQAAAAAAAACpAAAAAAAAAIkAAAAAAAAAYQAAAAAAAACBAAAAAAAAAJkAAAAAAAAAkQAAAAAAAAChAAAAAAAAAIkAAAAAAAAAwQAAAAAAAACRAAAAAAAAAJkAAAAAAAAAqQAAAAAAAADBAAAAAAAAALkAAAAAAAAAoQAAAAAAAADFAAAAAAAAALkAAAAAAAAAyQAAAAAAAACxAAAAAAAAANEAAAAAAAAA1QAAAAAAAACpAAAAAAAAALEAAAAAAAAAsQAAAAAAAADBAAAAAAAAAMEAAAAAAAAA0QAAAAAAAACZAAAAAAAAANEAAAAAAAAA1QAAAAAAAADFAAAAAAAAAMkAAAAAAAAAxQAAAAAAAACZAAAAAAAAAGEAAAAAAAAAzQAAAAAAAADNAAAAAAAAALkAAAAAAAAAoQAAAAAAAADFAAAAAAAAALEAAAAAAAAAsQAAAAAAAACZAAAAAAAAANUAAAAAAAAAuQAAAAAAAAChAAAAAAAAALEAAAAAAAAD4fw==",
          "dtype": "f8"
         }
        },
        {
         "hoverinfo": "x+y+name",
         "hovertemplate": "<b>Rolling Average:</b> %{text}<br><b>Year:</b> 2023<br><b>Week:</b> %{x}<br><b>Total Fatal and Non-Fatal Shootings:</b> %{y}",
         "line": {
          "color": "#E0D7D2"
         },
         "mode": "lines+markers",
         "name": "2023",
         "text": [
          "7-day",
          "7-day",
          "7-day",
          "7-day",
          "7-day",
          "7-day",
          "7-day",
          "7-day",
          "7-day",
          "7-day",
          "7-day",
          "7-day",
          "7-day",
          "7-day",
          "7-day",
          "7-day",
          "7-day",
          "7-day",
          "7-day",
          "7-day",
          "7-day",
          "7-day",
          "7-day",
          "7-day",
          "7-day",
          "7-day",
          "7-day",
          "7-day",
          "7-day",
          "7-day",
          "7-day",
          "7-day",
          "7-day",
          "7-day",
          "7-day",
          "7-day",
          "7-day",
          "7-day",
          "7-day",
          "7-day",
          "7-day",
          "7-day",
          "7-day",
          "7-day",
          "7-day",
          "7-day",
          "7-day",
          "7-day",
          "7-day",
          "7-day",
          "7-day",
          "7-day",
          "7-day"
         ],
         "type": "scatter",
         "x": {
          "bdata": "AQAAAAIAAAADAAAABAAAAAUAAAAGAAAABwAAAAgAAAAJAAAACgAAAAsAAAAMAAAADQAAAA4AAAAPAAAAEAAAABEAAAASAAAAEwAAABQAAAAVAAAAFgAAABcAAAAYAAAAGQAAABoAAAAbAAAAHAAAAB0AAAAeAAAAHwAAACAAAAAhAAAAIgAAACMAAAAkAAAAJQAAACYAAAAnAAAAKAAAACkAAAAqAAAAKwAAACwAAAAtAAAALgAAAC8AAAAwAAAAMQAAADIAAAAzAAAANAAAADUAAAA=",
          "dtype": "u4"
         },
         "y": {
          "bdata": "AAAAAAAAHEAAAAAAAAAiQAAAAAAAAC5AAAAAAAAAFEAAAAAAAAAkQAAAAAAAAChAAAAAAAAAIkAAAAAAAAAYQAAAAAAAADFAAAAAAAAAFEAAAAAAAAAkQAAAAAAAABhAAAAAAAAAJkAAAAAAAAAgQAAAAAAAADdAAAAAAAAAHEAAAAAAAAAoQAAAAAAAABxAAAAAAAAAPkAAAAAAAAAqQAAAAAAAADRAAAAAAAAALkAAAAAAAAAoQAAAAAAAADBAAAAAAAAALkAAAAAAAAAzQAAAAAAAAC5AAAAAAAAAMEAAAAAAAAAoQAAAAAAAADBAAAAAAAAAM0AAAAAAAAAoQAAAAAAAADBAAAAAAAAAJkAAAAAAAAAuQAAAAAAAAChAAAAAAAAAIEAAAAAAAAAmQAAAAAAAACxAAAAAAAAAIkAAAAAAAAAkQAAAAAAAAChAAAAAAAAAKkAAAAAAAAAwQAAAAAAAADFAAAAAAAAAJkAAAAAAAAAgQAAAAAAAABhAAAAAAAAAKEAAAAAAAAAmQAAAAAAAACJAAAAAAAAAKEAAAAAAAAD4fw==",
          "dtype": "f8"
         }
        },
        {
         "hoverinfo": "x+y+name",
         "hovertemplate": "<b>Rolling Average:</b> %{text}<br><b>Year:</b> 2024<br><b>Week:</b> %{x}<br><b>Total Fatal and Non-Fatal Shootings:</b> %{y}",
         "line": {
          "color": "#3A3633"
         },
         "mode": "lines+markers",
         "name": "2024",
         "text": [
          "7-day",
          "7-day",
          "7-day",
          "7-day",
          "7-day",
          "7-day",
          "7-day",
          "7-day",
          "7-day",
          "7-day",
          "7-day",
          "7-day",
          "7-day",
          "7-day",
          "7-day",
          "7-day",
          "7-day",
          "7-day",
          "7-day",
          "7-day",
          "7-day",
          "7-day",
          "7-day",
          "7-day",
          "7-day",
          "7-day",
          "7-day",
          "7-day",
          "7-day",
          "7-day",
          "7-day",
          "7-day",
          "7-day",
          "7-day",
          "7-day",
          "7-day",
          "7-day",
          "7-day",
          "7-day",
          "7-day",
          "7-day",
          "7-day",
          "7-day",
          "7-day",
          "7-day",
          "7-day",
          "7-day",
          "7-day",
          "7-day",
          "7-day",
          "7-day",
          "7-day",
          "7-day"
         ],
         "type": "scatter",
         "x": {
          "bdata": "AQAAAAIAAAADAAAABAAAAAUAAAAGAAAABwAAAAgAAAAJAAAACgAAAAsAAAAMAAAADQAAAA4AAAAPAAAAEAAAABEAAAASAAAAEwAAABQAAAAVAAAAFgAAABcAAAAYAAAAGQAAABoAAAAbAAAAHAAAAB0AAAAeAAAAHwAAACAAAAAhAAAAIgAAACMAAAAkAAAAJQAAACYAAAAnAAAAKAAAACkAAAAqAAAAKwAAACwAAAAtAAAALgAAAC8AAAAwAAAAMQAAADIAAAAzAAAANAAAADUAAAA=",
          "dtype": "u4"
         },
         "y": {
          "bdata": "AAAAAAAAJkAAAAAAAAAUQAAAAAAAABBAAAAAAAAAJEAAAAAAAAAoQAAAAAAAABxAAAAAAAAAIEAAAAAAAAAiQAAAAAAAACJAAAAAAAAAIkAAAAAAAAAxQAAAAAAAAAhAAAAAAAAAMEAAAAAAAAAiQAAAAAAAACpAAAAAAAAAJEAAAAAAAAAQQAAAAAAAACxAAAAAAAAAJEAAAAAAAAAgQAAAAAAAACxAAAAAAAAALkAAAAAAAAAuQAAAAAAAAChAAAAAAAAAOEAAAAAAAAAxQAAAAAAAADtAAAAAAAAAM0AAAAAAAAAYQAAAAAAAACZAAAAAAAAAJkAAAAAAAAAgQAAAAAAAACpAAAAAAAAAMUAAAAAAAAAoQAAAAAAAACJAAAAAAAAALEAAAAAAAAAsQAAAAAAAACRAAAAAAAAAJkAAAAAAAAAmQAAAAAAAADJAAAAAAAAAKkAAAAAAAAAIQAAAAAAAACpAAAAAAAAAIEAAAAAAAAAgQAAAAAAAACBAAAAAAAAAJkAAAAAAAAAsQAAAAAAAACJAAAAAAAAAEEAAAAAAAAD4fw==",
          "dtype": "f8"
         }
        }
       ],
       "layout": {
        "font": {
         "family": "Arial",
         "size": 14
        },
        "hovermode": "closest",
        "template": {
         "data": {
          "bar": [
           {
            "error_x": {
             "color": "#2a3f5f"
            },
            "error_y": {
             "color": "#2a3f5f"
            },
            "marker": {
             "line": {
              "color": "white",
              "width": 0.5
             },
             "pattern": {
              "fillmode": "overlay",
              "size": 10,
              "solidity": 0.2
             }
            },
            "type": "bar"
           }
          ],
          "barpolar": [
           {
            "marker": {
             "line": {
              "color": "white",
              "width": 0.5
             },
             "pattern": {
              "fillmode": "overlay",
              "size": 10,
              "solidity": 0.2
             }
            },
            "type": "barpolar"
           }
          ],
          "carpet": [
           {
            "aaxis": {
             "endlinecolor": "#2a3f5f",
             "gridcolor": "#C8D4E3",
             "linecolor": "#C8D4E3",
             "minorgridcolor": "#C8D4E3",
             "startlinecolor": "#2a3f5f"
            },
            "baxis": {
             "endlinecolor": "#2a3f5f",
             "gridcolor": "#C8D4E3",
             "linecolor": "#C8D4E3",
             "minorgridcolor": "#C8D4E3",
             "startlinecolor": "#2a3f5f"
            },
            "type": "carpet"
           }
          ],
          "choropleth": [
           {
            "colorbar": {
             "outlinewidth": 0,
             "ticks": ""
            },
            "type": "choropleth"
           }
          ],
          "contour": [
           {
            "colorbar": {
             "outlinewidth": 0,
             "ticks": ""
            },
            "colorscale": [
             [
              0,
              "#0d0887"
             ],
             [
              0.1111111111111111,
              "#46039f"
             ],
             [
              0.2222222222222222,
              "#7201a8"
             ],
             [
              0.3333333333333333,
              "#9c179e"
             ],
             [
              0.4444444444444444,
              "#bd3786"
             ],
             [
              0.5555555555555556,
              "#d8576b"
             ],
             [
              0.6666666666666666,
              "#ed7953"
             ],
             [
              0.7777777777777778,
              "#fb9f3a"
             ],
             [
              0.8888888888888888,
              "#fdca26"
             ],
             [
              1,
              "#f0f921"
             ]
            ],
            "type": "contour"
           }
          ],
          "contourcarpet": [
           {
            "colorbar": {
             "outlinewidth": 0,
             "ticks": ""
            },
            "type": "contourcarpet"
           }
          ],
          "heatmap": [
           {
            "colorbar": {
             "outlinewidth": 0,
             "ticks": ""
            },
            "colorscale": [
             [
              0,
              "#0d0887"
             ],
             [
              0.1111111111111111,
              "#46039f"
             ],
             [
              0.2222222222222222,
              "#7201a8"
             ],
             [
              0.3333333333333333,
              "#9c179e"
             ],
             [
              0.4444444444444444,
              "#bd3786"
             ],
             [
              0.5555555555555556,
              "#d8576b"
             ],
             [
              0.6666666666666666,
              "#ed7953"
             ],
             [
              0.7777777777777778,
              "#fb9f3a"
             ],
             [
              0.8888888888888888,
              "#fdca26"
             ],
             [
              1,
              "#f0f921"
             ]
            ],
            "type": "heatmap"
           }
          ],
          "histogram": [
           {
            "marker": {
             "pattern": {
              "fillmode": "overlay",
              "size": 10,
              "solidity": 0.2
             }
            },
            "type": "histogram"
           }
          ],
          "histogram2d": [
           {
            "colorbar": {
             "outlinewidth": 0,
             "ticks": ""
            },
            "colorscale": [
             [
              0,
              "#0d0887"
             ],
             [
              0.1111111111111111,
              "#46039f"
             ],
             [
              0.2222222222222222,
              "#7201a8"
             ],
             [
              0.3333333333333333,
              "#9c179e"
             ],
             [
              0.4444444444444444,
              "#bd3786"
             ],
             [
              0.5555555555555556,
              "#d8576b"
             ],
             [
              0.6666666666666666,
              "#ed7953"
             ],
             [
              0.7777777777777778,
              "#fb9f3a"
             ],
             [
              0.8888888888888888,
              "#fdca26"
             ],
             [
              1,
              "#f0f921"
             ]
            ],
            "type": "histogram2d"
           }
          ],
          "histogram2dcontour": [
           {
            "colorbar": {
             "outlinewidth": 0,
             "ticks": ""
            },
            "colorscale": [
             [
              0,
              "#0d0887"
             ],
             [
              0.1111111111111111,
              "#46039f"
             ],
             [
              0.2222222222222222,
              "#7201a8"
             ],
             [
              0.3333333333333333,
              "#9c179e"
             ],
             [
              0.4444444444444444,
              "#bd3786"
             ],
             [
              0.5555555555555556,
              "#d8576b"
             ],
             [
              0.6666666666666666,
              "#ed7953"
             ],
             [
              0.7777777777777778,
              "#fb9f3a"
             ],
             [
              0.8888888888888888,
              "#fdca26"
             ],
             [
              1,
              "#f0f921"
             ]
            ],
            "type": "histogram2dcontour"
           }
          ],
          "mesh3d": [
           {
            "colorbar": {
             "outlinewidth": 0,
             "ticks": ""
            },
            "type": "mesh3d"
           }
          ],
          "parcoords": [
           {
            "line": {
             "colorbar": {
              "outlinewidth": 0,
              "ticks": ""
             }
            },
            "type": "parcoords"
           }
          ],
          "pie": [
           {
            "automargin": true,
            "type": "pie"
           }
          ],
          "scatter": [
           {
            "fillpattern": {
             "fillmode": "overlay",
             "size": 10,
             "solidity": 0.2
            },
            "type": "scatter"
           }
          ],
          "scatter3d": [
           {
            "line": {
             "colorbar": {
              "outlinewidth": 0,
              "ticks": ""
             }
            },
            "marker": {
             "colorbar": {
              "outlinewidth": 0,
              "ticks": ""
             }
            },
            "type": "scatter3d"
           }
          ],
          "scattercarpet": [
           {
            "marker": {
             "colorbar": {
              "outlinewidth": 0,
              "ticks": ""
             }
            },
            "type": "scattercarpet"
           }
          ],
          "scattergeo": [
           {
            "marker": {
             "colorbar": {
              "outlinewidth": 0,
              "ticks": ""
             }
            },
            "type": "scattergeo"
           }
          ],
          "scattergl": [
           {
            "marker": {
             "colorbar": {
              "outlinewidth": 0,
              "ticks": ""
             }
            },
            "type": "scattergl"
           }
          ],
          "scattermap": [
           {
            "marker": {
             "colorbar": {
              "outlinewidth": 0,
              "ticks": ""
             }
            },
            "type": "scattermap"
           }
          ],
          "scattermapbox": [
           {
            "marker": {
             "colorbar": {
              "outlinewidth": 0,
              "ticks": ""
             }
            },
            "type": "scattermapbox"
           }
          ],
          "scatterpolar": [
           {
            "marker": {
             "colorbar": {
              "outlinewidth": 0,
              "ticks": ""
             }
            },
            "type": "scatterpolar"
           }
          ],
          "scatterpolargl": [
           {
            "marker": {
             "colorbar": {
              "outlinewidth": 0,
              "ticks": ""
             }
            },
            "type": "scatterpolargl"
           }
          ],
          "scatterternary": [
           {
            "marker": {
             "colorbar": {
              "outlinewidth": 0,
              "ticks": ""
             }
            },
            "type": "scatterternary"
           }
          ],
          "surface": [
           {
            "colorbar": {
             "outlinewidth": 0,
             "ticks": ""
            },
            "colorscale": [
             [
              0,
              "#0d0887"
             ],
             [
              0.1111111111111111,
              "#46039f"
             ],
             [
              0.2222222222222222,
              "#7201a8"
             ],
             [
              0.3333333333333333,
              "#9c179e"
             ],
             [
              0.4444444444444444,
              "#bd3786"
             ],
             [
              0.5555555555555556,
              "#d8576b"
             ],
             [
              0.6666666666666666,
              "#ed7953"
             ],
             [
              0.7777777777777778,
              "#fb9f3a"
             ],
             [
              0.8888888888888888,
              "#fdca26"
             ],
             [
              1,
              "#f0f921"
             ]
            ],
            "type": "surface"
           }
          ],
          "table": [
           {
            "cells": {
             "fill": {
              "color": "#EBF0F8"
             },
             "line": {
              "color": "white"
             }
            },
            "header": {
             "fill": {
              "color": "#C8D4E3"
             },
             "line": {
              "color": "white"
             }
            },
            "type": "table"
           }
          ]
         },
         "layout": {
          "annotationdefaults": {
           "arrowcolor": "#2a3f5f",
           "arrowhead": 0,
           "arrowwidth": 1
          },
          "autotypenumbers": "strict",
          "coloraxis": {
           "colorbar": {
            "outlinewidth": 0,
            "ticks": ""
           }
          },
          "colorscale": {
           "diverging": [
            [
             0,
             "#8e0152"
            ],
            [
             0.1,
             "#c51b7d"
            ],
            [
             0.2,
             "#de77ae"
            ],
            [
             0.3,
             "#f1b6da"
            ],
            [
             0.4,
             "#fde0ef"
            ],
            [
             0.5,
             "#f7f7f7"
            ],
            [
             0.6,
             "#e6f5d0"
            ],
            [
             0.7,
             "#b8e186"
            ],
            [
             0.8,
             "#7fbc41"
            ],
            [
             0.9,
             "#4d9221"
            ],
            [
             1,
             "#276419"
            ]
           ],
           "sequential": [
            [
             0,
             "#0d0887"
            ],
            [
             0.1111111111111111,
             "#46039f"
            ],
            [
             0.2222222222222222,
             "#7201a8"
            ],
            [
             0.3333333333333333,
             "#9c179e"
            ],
            [
             0.4444444444444444,
             "#bd3786"
            ],
            [
             0.5555555555555556,
             "#d8576b"
            ],
            [
             0.6666666666666666,
             "#ed7953"
            ],
            [
             0.7777777777777778,
             "#fb9f3a"
            ],
            [
             0.8888888888888888,
             "#fdca26"
            ],
            [
             1,
             "#f0f921"
            ]
           ],
           "sequentialminus": [
            [
             0,
             "#0d0887"
            ],
            [
             0.1111111111111111,
             "#46039f"
            ],
            [
             0.2222222222222222,
             "#7201a8"
            ],
            [
             0.3333333333333333,
             "#9c179e"
            ],
            [
             0.4444444444444444,
             "#bd3786"
            ],
            [
             0.5555555555555556,
             "#d8576b"
            ],
            [
             0.6666666666666666,
             "#ed7953"
            ],
            [
             0.7777777777777778,
             "#fb9f3a"
            ],
            [
             0.8888888888888888,
             "#fdca26"
            ],
            [
             1,
             "#f0f921"
            ]
           ]
          },
          "colorway": [
           "#636efa",
           "#EF553B",
           "#00cc96",
           "#ab63fa",
           "#FFA15A",
           "#19d3f3",
           "#FF6692",
           "#B6E880",
           "#FF97FF",
           "#FECB52"
          ],
          "font": {
           "color": "#2a3f5f"
          },
          "geo": {
           "bgcolor": "white",
           "lakecolor": "white",
           "landcolor": "white",
           "showlakes": true,
           "showland": true,
           "subunitcolor": "#C8D4E3"
          },
          "hoverlabel": {
           "align": "left"
          },
          "hovermode": "closest",
          "mapbox": {
           "style": "light"
          },
          "paper_bgcolor": "white",
          "plot_bgcolor": "white",
          "polar": {
           "angularaxis": {
            "gridcolor": "#EBF0F8",
            "linecolor": "#EBF0F8",
            "ticks": ""
           },
           "bgcolor": "white",
           "radialaxis": {
            "gridcolor": "#EBF0F8",
            "linecolor": "#EBF0F8",
            "ticks": ""
           }
          },
          "scene": {
           "xaxis": {
            "backgroundcolor": "white",
            "gridcolor": "#DFE8F3",
            "gridwidth": 2,
            "linecolor": "#EBF0F8",
            "showbackground": true,
            "ticks": "",
            "zerolinecolor": "#EBF0F8"
           },
           "yaxis": {
            "backgroundcolor": "white",
            "gridcolor": "#DFE8F3",
            "gridwidth": 2,
            "linecolor": "#EBF0F8",
            "showbackground": true,
            "ticks": "",
            "zerolinecolor": "#EBF0F8"
           },
           "zaxis": {
            "backgroundcolor": "white",
            "gridcolor": "#DFE8F3",
            "gridwidth": 2,
            "linecolor": "#EBF0F8",
            "showbackground": true,
            "ticks": "",
            "zerolinecolor": "#EBF0F8"
           }
          },
          "shapedefaults": {
           "line": {
            "color": "#2a3f5f"
           }
          },
          "ternary": {
           "aaxis": {
            "gridcolor": "#DFE8F3",
            "linecolor": "#A2B1C6",
            "ticks": ""
           },
           "baxis": {
            "gridcolor": "#DFE8F3",
            "linecolor": "#A2B1C6",
            "ticks": ""
           },
           "bgcolor": "white",
           "caxis": {
            "gridcolor": "#DFE8F3",
            "linecolor": "#A2B1C6",
            "ticks": ""
           }
          },
          "title": {
           "x": 0.05
          },
          "xaxis": {
           "automargin": true,
           "gridcolor": "#EBF0F8",
           "linecolor": "#EBF0F8",
           "ticks": "",
           "title": {
            "standoff": 15
           },
           "zerolinecolor": "#EBF0F8",
           "zerolinewidth": 2
          },
          "yaxis": {
           "automargin": true,
           "gridcolor": "#EBF0F8",
           "linecolor": "#EBF0F8",
           "ticks": "",
           "title": {
            "standoff": 15
           },
           "zerolinecolor": "#EBF0F8",
           "zerolinewidth": 2
          }
         }
        },
        "title": {
         "text": "Homicide & Non-Fatal Shootings Trends (2019-2024) - weekly View"
        },
        "xaxis": {
         "tickmode": "array",
         "ticktext": {
          "bdata": "AQAAAAIAAAADAAAABAAAAAUAAAAGAAAABwAAAAgAAAAJAAAACgAAAAsAAAAMAAAADQAAAA4AAAAPAAAAEAAAABEAAAASAAAAEwAAABQAAAAVAAAAFgAAABcAAAAYAAAAGQAAABoAAAAbAAAAHAAAAB0AAAAeAAAAHwAAACAAAAAhAAAAIgAAACMAAAAkAAAAJQAAACYAAAAnAAAAKAAAACkAAAAqAAAAKwAAACwAAAAtAAAALgAAAC8AAAAwAAAAMQAAADIAAAAzAAAANAAAADUAAAA=",
          "dtype": "u4"
         },
         "tickvals": {
          "bdata": "AQAAAAIAAAADAAAABAAAAAUAAAAGAAAABwAAAAgAAAAJAAAACgAAAAsAAAAMAAAADQAAAA4AAAAPAAAAEAAAABEAAAASAAAAEwAAABQAAAAVAAAAFgAAABcAAAAYAAAAGQAAABoAAAAbAAAAHAAAAB0AAAAeAAAAHwAAACAAAAAhAAAAIgAAACMAAAAkAAAAJQAAACYAAAAnAAAAKAAAACkAAAAqAAAAKwAAACwAAAAtAAAALgAAAC8AAAAwAAAAMQAAADIAAAAzAAAANAAAADUAAAA=",
          "dtype": "u4"
         },
         "title": {
          "text": "Week"
         }
        },
        "yaxis": {
         "title": {
          "text": "Number of Victimizations"
         }
        }
       }
      }
     },
     "metadata": {},
     "output_type": "display_data"
    },
    {
     "data": {
      "application/vnd.jupyter.widget-view+json": {
       "model_id": "a2d878316fe34142a1f1b0cb8b872141",
       "version_major": 2,
       "version_minor": 0
      },
      "text/plain": [
       "HBox(children=(Dropdown(description='Rolling Avg:', options=(('7 Day rolling Average', 'weekly'), ('Monthly Av…"
      ]
     },
     "metadata": {},
     "output_type": "display_data"
    },
    {
     "data": {
      "application/vnd.jupyter.widget-view+json": {
       "model_id": "f6eaa21d2fcb4c569c02e958685a5205",
       "version_major": 2,
       "version_minor": 0
      },
      "text/plain": [
       "Output()"
      ]
     },
     "metadata": {},
     "output_type": "display_data"
    }
   ],
   "source": [
    "import pandas as pd \n",
    "import plotly.graph_objects as go\n",
    "import ipywidgets as widgets\n",
    "from IPython.display import display\n",
    "\n",
    "# Load the CSV file\n",
    "file_path = \"Shootings.csv\"\n",
    "df = pd.read_csv(file_path, parse_dates=['DATE'], low_memory=False)\n",
    "\n",
    "# Extract year and week number\n",
    "df['Year'] = df['DATE'].dt.year\n",
    "df['Week_Number'] = df['DATE'].dt.isocalendar().week\n",
    "df['Month'] = df['DATE'].dt.month\n",
    "\n",
    "# Filter only years 2019-2024\n",
    "df_filtered = df[df['Year'].between(2019, 2024)]\n",
    "\n",
    "# Filter only HOMICIDE and NON-FATAL SHOOTINGS cases\n",
    "df_violent = df_filtered[df_filtered['VICTIMIZATION_PRIMARY'].str.contains(\"HOMICIDE|NON-FATAL\", na=False, case=False)]\n",
    "\n",
    "# Define custom colors for each year\n",
    "year_colors = {\n",
    "    2019: \"#A99A93\",\n",
    "    2020: \"#7D726E\",\n",
    "    2021: \"#524D49\",\n",
    "    2022: \"#C0B5AF\",\n",
    "    2023: \"#E0D7D2\",\n",
    "    2024: \"#3A3633\",\n",
    "    2025: \"#282522\"\n",
    "}\n",
    "\n",
    "# Rolling average dropdown selector\n",
    "rolling_avg_selector = widgets.Dropdown(\n",
    "    options=[('7 Day rolling Average', 'weekly'), ('Monthly Average', 'monthly')],\n",
    "    value='weekly',\n",
    "    description=\"Rolling Avg:\",\n",
    "    style={'description_width': 'initial'}\n",
    ")\n",
    "\n",
    "# Create an output widget for updating the graph dynamically\n",
    "output = widgets.Output()\n",
    "\n",
    "def update_graph(rolling_window):\n",
    "    with output:\n",
    "        output.clear_output(wait=True)\n",
    "        fig = go.Figure()\n",
    "        \n",
    "        if rolling_window == 'monthly':  # Monthly aggregation\n",
    "            victimization_counts = df_violent.groupby(['Year', 'Month']).size().unstack(level=0)\n",
    "            x_axis = list(range(1, 13))  # Months (1-12)\n",
    "            x_labels = [\"Jan\", \"Feb\", \"Mar\", \"Apr\", \"May\", \"Jun\", \"Jul\", \"Aug\", \"Sep\", \"Oct\", \"Nov\", \"Dec\"]\n",
    "            time_label = \"Month\"\n",
    "        else:  # Weekly basis\n",
    "            victimization_counts = df_violent.groupby(['Year', 'Week_Number']).size().unstack(level=0)\n",
    "            x_axis = victimization_counts.index\n",
    "            x_labels = x_axis  # Keep week numbers as labels\n",
    "            time_label = \"Week\"\n",
    "\n",
    "        for year in victimization_counts.columns:\n",
    "            fig.add_trace(go.Scatter(\n",
    "                x=x_axis, y=victimization_counts[year],\n",
    "                mode='lines+markers',\n",
    "                name=str(year),\n",
    "                line=dict(color=year_colors.get(year, \"#000000\")),\n",
    "                hoverinfo='x+y+name',  # Removes HTML tags in hover text\n",
    "                hovertemplate=\n",
    "                \"<b>Rolling Average:</b> %{text}<br>\"\n",
    "                \"<b>Year:</b> \" + str(year) + \"<br>\"\n",
    "                \"<b>\" + time_label + \":</b> %{x}<br>\"\n",
    "                \"<b>Total Fatal and Non-Fatal Shootings:</b> %{y}\",\n",
    "                text=[\"7-day\" if rolling_window == \"weekly\" else \"Monthly\"] * len(x_axis)\n",
    "            ))\n",
    "        \n",
    "        fig.update_layout(\n",
    "            title=f\"Homicide & Non-Fatal Shootings Trends (2019-2024) - {rolling_window} View\",\n",
    "            xaxis_title=time_label,\n",
    "            xaxis=dict(tickmode='array', tickvals=x_axis, ticktext=x_labels),\n",
    "            yaxis_title=\"Number of Victimizations\",\n",
    "            template=\"plotly_white\",\n",
    "            hovermode=\"closest\",  # Ensures only the hovered line shows hover info\n",
    "            font=dict(family=\"Arial\", size=14)\n",
    "        )\n",
    "        \n",
    "        fig.show()\n",
    "\n",
    "# Display widgets on the top left\n",
    "ui = widgets.HBox([rolling_avg_selector])\n",
    "widgets.interactive(update_graph, rolling_window=rolling_avg_selector)\n",
    "display(ui, output)"
   ]
  },
  {
   "cell_type": "code",
   "execution_count": 70,
   "metadata": {},
   "outputs": [
    {
     "name": "stderr",
     "output_type": "stream",
     "text": [
      "C:\\Users\\Kevin\\AppData\\Local\\Temp\\ipykernel_632\\560461937.py:8: UserWarning:\n",
      "\n",
      "Could not infer format, so each element will be parsed individually, falling back to `dateutil`. To ensure parsing is consistent and as-expected, please specify a format.\n",
      "\n"
     ]
    },
    {
     "data": {
      "application/vnd.plotly.v1+json": {
       "config": {
        "plotlyServerURL": "https://plot.ly"
       },
       "data": [
        {
         "hoverinfo": "x+y+name",
         "hovertemplate": "<b>Year:</b> 2019<br><b>Week:</b> %{x}<br><b>Victimizations:</b> %{y}",
         "line": {
          "shape": "spline"
         },
         "mode": "lines+markers",
         "name": "2019",
         "text": [
          "2019",
          "2019",
          "2019",
          "2019",
          "2019",
          "2019",
          "2019",
          "2019",
          "2019",
          "2019",
          "2019",
          "2019",
          "2019",
          "2019",
          "2019",
          "2019",
          "2019",
          "2019",
          "2019",
          "2019",
          "2019",
          "2019",
          "2019",
          "2019",
          "2019",
          "2019",
          "2019",
          "2019",
          "2019",
          "2019",
          "2019",
          "2019",
          "2019",
          "2019",
          "2019",
          "2019",
          "2019",
          "2019",
          "2019",
          "2019",
          "2019",
          "2019",
          "2019",
          "2019",
          "2019",
          "2019",
          "2019",
          "2019",
          "2019",
          "2019",
          "2019",
          "2019",
          "2019"
         ],
         "type": "scatter",
         "x": {
          "bdata": "AQAAAAIAAAADAAAABAAAAAUAAAAGAAAABwAAAAgAAAAJAAAACgAAAAsAAAAMAAAADQAAAA4AAAAPAAAAEAAAABEAAAASAAAAEwAAABQAAAAVAAAAFgAAABcAAAAYAAAAGQAAABoAAAAbAAAAHAAAAB0AAAAeAAAAHwAAACAAAAAhAAAAIgAAACMAAAAkAAAAJQAAACYAAAAnAAAAKAAAACkAAAAqAAAAKwAAACwAAAAtAAAALgAAAC8AAAAwAAAAMQAAADIAAAAzAAAANAAAADUAAAA=",
          "dtype": "u4"
         },
         "y": {
          "bdata": "AAAAAAAAGEAAAAAAAAAcQAAAAAAAABRAAAAAAAAAAEAAAAAAAAAqQAAAAAAAACBAAAAAAAAAFEAAAAAAAAAQQAAAAAAAABRAAAAAAAAAEEAAAAAAAAAiQAAAAAAAACBAAAAAAAAALkAAAAAAAAAyQAAAAAAAACpAAAAAAAAALkAAAAAAAAAuQAAAAAAAACpAAAAAAAAAIkAAAAAAAAAmQAAAAAAAACpAAAAAAAAANUAAAAAAAAAuQAAAAAAAACZAAAAAAAAALEAAAAAAAAAcQAAAAAAAAChAAAAAAAAALEAAAAAAAAAYQAAAAAAAACxAAAAAAAAAJkAAAAAAAAAcQAAAAAAAACBAAAAAAAAALEAAAAAAAAAwQAAAAAAAACJAAAAAAAAAMUAAAAAAAAAmQAAAAAAAACxAAAAAAAAAKEAAAAAAAAAoQAAAAAAAABxAAAAAAAAAJkAAAAAAAAAYQAAAAAAAAChAAAAAAAAAIEAAAAAAAAAcQAAAAAAAABhAAAAAAAAAIEAAAAAAAAAUQAAAAAAAACBAAAAAAAAAJEAAAAAAAAD4fw==",
          "dtype": "f8"
         }
        },
        {
         "hoverinfo": "x+y+name",
         "hovertemplate": "<b>Year:</b> 2020<br><b>Week:</b> %{x}<br><b>Victimizations:</b> %{y}",
         "line": {
          "shape": "spline"
         },
         "mode": "lines+markers",
         "name": "2020",
         "text": [
          "2020",
          "2020",
          "2020",
          "2020",
          "2020",
          "2020",
          "2020",
          "2020",
          "2020",
          "2020",
          "2020",
          "2020",
          "2020",
          "2020",
          "2020",
          "2020",
          "2020",
          "2020",
          "2020",
          "2020",
          "2020",
          "2020",
          "2020",
          "2020",
          "2020",
          "2020",
          "2020",
          "2020",
          "2020",
          "2020",
          "2020",
          "2020",
          "2020",
          "2020",
          "2020",
          "2020",
          "2020",
          "2020",
          "2020",
          "2020",
          "2020",
          "2020",
          "2020",
          "2020",
          "2020",
          "2020",
          "2020",
          "2020",
          "2020",
          "2020",
          "2020",
          "2020",
          "2020"
         ],
         "type": "scatter",
         "x": {
          "bdata": "AQAAAAIAAAADAAAABAAAAAUAAAAGAAAABwAAAAgAAAAJAAAACgAAAAsAAAAMAAAADQAAAA4AAAAPAAAAEAAAABEAAAASAAAAEwAAABQAAAAVAAAAFgAAABcAAAAYAAAAGQAAABoAAAAbAAAAHAAAAB0AAAAeAAAAHwAAACAAAAAhAAAAIgAAACMAAAAkAAAAJQAAACYAAAAnAAAAKAAAACkAAAAqAAAAKwAAACwAAAAtAAAALgAAAC8AAAAwAAAAMQAAADIAAAAzAAAANAAAADUAAAA=",
          "dtype": "u4"
         },
         "y": {
          "bdata": "AAAAAAAAJEAAAAAAAAAQQAAAAAAAACRAAAAAAAAAHEAAAAAAAAAgQAAAAAAAAChAAAAAAAAAGEAAAAAAAAAkQAAAAAAAAChAAAAAAAAAJEAAAAAAAAAYQAAAAAAAABBAAAAAAAAAGEAAAAAAAAAkQAAAAAAAADVAAAAAAAAALEAAAAAAAAAmQAAAAAAAACJAAAAAAAAAMEAAAAAAAAAoQAAAAAAAACpAAAAAAACAREAAAAAAAAA3QAAAAAAAACZAAAAAAAAAQEAAAAAAAAA+QAAAAAAAAEBAAAAAAAAAQEAAAAAAAAA9QAAAAAAAADRAAAAAAAAAMkAAAAAAAAAkQAAAAAAAADBAAAAAAAAALEAAAAAAAAA1QAAAAAAAADRAAAAAAAAANUAAAAAAAAAuQAAAAAAAADdAAAAAAAAAMUAAAAAAAAAwQAAAAAAAADZAAAAAAAAAJkAAAAAAAAAuQAAAAAAAADZAAAAAAAAAMUAAAAAAAAAiQAAAAAAAADBAAAAAAAAAJkAAAAAAAAAkQAAAAAAAACZAAAAAAAAAKkAAAAAAAAAcQA==",
          "dtype": "f8"
         }
        },
        {
         "hoverinfo": "x+y+name",
         "hovertemplate": "<b>Year:</b> 2021<br><b>Week:</b> %{x}<br><b>Victimizations:</b> %{y}",
         "line": {
          "shape": "spline"
         },
         "mode": "lines+markers",
         "name": "2021",
         "text": [
          "2021",
          "2021",
          "2021",
          "2021",
          "2021",
          "2021",
          "2021",
          "2021",
          "2021",
          "2021",
          "2021",
          "2021",
          "2021",
          "2021",
          "2021",
          "2021",
          "2021",
          "2021",
          "2021",
          "2021",
          "2021",
          "2021",
          "2021",
          "2021",
          "2021",
          "2021",
          "2021",
          "2021",
          "2021",
          "2021",
          "2021",
          "2021",
          "2021",
          "2021",
          "2021",
          "2021",
          "2021",
          "2021",
          "2021",
          "2021",
          "2021",
          "2021",
          "2021",
          "2021",
          "2021",
          "2021",
          "2021",
          "2021",
          "2021",
          "2021",
          "2021",
          "2021",
          "2021"
         ],
         "type": "scatter",
         "x": {
          "bdata": "AQAAAAIAAAADAAAABAAAAAUAAAAGAAAABwAAAAgAAAAJAAAACgAAAAsAAAAMAAAADQAAAA4AAAAPAAAAEAAAABEAAAASAAAAEwAAABQAAAAVAAAAFgAAABcAAAAYAAAAGQAAABoAAAAbAAAAHAAAAB0AAAAeAAAAHwAAACAAAAAhAAAAIgAAACMAAAAkAAAAJQAAACYAAAAnAAAAKAAAACkAAAAqAAAAKwAAACwAAAAtAAAALgAAAC8AAAAwAAAAMQAAADIAAAAzAAAANAAAADUAAAA=",
          "dtype": "u4"
         },
         "y": {
          "bdata": "AAAAAAAAMUAAAAAAAAAsQAAAAAAAAChAAAAAAAAAIkAAAAAAAAAcQAAAAAAAACJAAAAAAAAAIkAAAAAAAAAmQAAAAAAAACBAAAAAAAAAOkAAAAAAAAAgQAAAAAAAADZAAAAAAAAAJkAAAAAAAAAsQAAAAAAAADFAAAAAAAAAIkAAAAAAAAAqQAAAAAAAACZAAAAAAAAALkAAAAAAAAA0QAAAAAAAACxAAAAAAAAAMUAAAAAAAAAxQAAAAAAAAD1AAAAAAAAANkAAAAAAAAA6QAAAAAAAAEBAAAAAAAAANUAAAAAAAAA2QAAAAAAAADNAAAAAAAAAOEAAAAAAAAA1QAAAAAAAADhAAAAAAAAAIkAAAAAAAAA0QAAAAAAAADJAAAAAAAAAPkAAAAAAAAAyQAAAAAAAADZAAAAAAAAAKkAAAAAAAAAmQAAAAAAAAC5AAAAAAAAALEAAAAAAAAAyQAAAAAAAACpAAAAAAAAALEAAAAAAAAAqQAAAAAAAAC5AAAAAAAAAKEAAAAAAAAAuQAAAAAAAACRAAAAAAAAAAEAAAAAAAAAUQA==",
          "dtype": "f8"
         }
        },
        {
         "hoverinfo": "x+y+name",
         "hovertemplate": "<b>Year:</b> 2022<br><b>Week:</b> %{x}<br><b>Victimizations:</b> %{y}",
         "line": {
          "shape": "spline"
         },
         "mode": "lines+markers",
         "name": "2022",
         "text": [
          "2022",
          "2022",
          "2022",
          "2022",
          "2022",
          "2022",
          "2022",
          "2022",
          "2022",
          "2022",
          "2022",
          "2022",
          "2022",
          "2022",
          "2022",
          "2022",
          "2022",
          "2022",
          "2022",
          "2022",
          "2022",
          "2022",
          "2022",
          "2022",
          "2022",
          "2022",
          "2022",
          "2022",
          "2022",
          "2022",
          "2022",
          "2022",
          "2022",
          "2022",
          "2022",
          "2022",
          "2022",
          "2022",
          "2022",
          "2022",
          "2022",
          "2022",
          "2022",
          "2022",
          "2022",
          "2022",
          "2022",
          "2022",
          "2022",
          "2022",
          "2022",
          "2022",
          "2022"
         ],
         "type": "scatter",
         "x": {
          "bdata": "AQAAAAIAAAADAAAABAAAAAUAAAAGAAAABwAAAAgAAAAJAAAACgAAAAsAAAAMAAAADQAAAA4AAAAPAAAAEAAAABEAAAASAAAAEwAAABQAAAAVAAAAFgAAABcAAAAYAAAAGQAAABoAAAAbAAAAHAAAAB0AAAAeAAAAHwAAACAAAAAhAAAAIgAAACMAAAAkAAAAJQAAACYAAAAnAAAAKAAAACkAAAAqAAAAKwAAACwAAAAtAAAALgAAAC8AAAAwAAAAMQAAADIAAAAzAAAANAAAADUAAAA=",
          "dtype": "u4"
         },
         "y": {
          "bdata": "AAAAAAAAGEAAAAAAAAAoQAAAAAAAAC5AAAAAAAAAJkAAAAAAAAAsQAAAAAAAACpAAAAAAAAAIkAAAAAAAAAYQAAAAAAAACBAAAAAAAAAJkAAAAAAAAAkQAAAAAAAAChAAAAAAAAAIkAAAAAAAAAwQAAAAAAAACRAAAAAAAAAJkAAAAAAAAAqQAAAAAAAADBAAAAAAAAALkAAAAAAAAAoQAAAAAAAADFAAAAAAAAALkAAAAAAAAAyQAAAAAAAACxAAAAAAAAANEAAAAAAAAA1QAAAAAAAACpAAAAAAAAALEAAAAAAAAAsQAAAAAAAADBAAAAAAAAAMEAAAAAAAAA0QAAAAAAAACZAAAAAAAAANEAAAAAAAAA1QAAAAAAAADFAAAAAAAAAMkAAAAAAAAAxQAAAAAAAACZAAAAAAAAAGEAAAAAAAAAzQAAAAAAAADNAAAAAAAAALkAAAAAAAAAoQAAAAAAAADFAAAAAAAAALEAAAAAAAAAsQAAAAAAAACZAAAAAAAAANUAAAAAAAAAuQAAAAAAAAChAAAAAAAAALEAAAAAAAAD4fw==",
          "dtype": "f8"
         }
        },
        {
         "hoverinfo": "x+y+name",
         "hovertemplate": "<b>Year:</b> 2023<br><b>Week:</b> %{x}<br><b>Victimizations:</b> %{y}",
         "line": {
          "shape": "spline"
         },
         "mode": "lines+markers",
         "name": "2023",
         "text": [
          "2023",
          "2023",
          "2023",
          "2023",
          "2023",
          "2023",
          "2023",
          "2023",
          "2023",
          "2023",
          "2023",
          "2023",
          "2023",
          "2023",
          "2023",
          "2023",
          "2023",
          "2023",
          "2023",
          "2023",
          "2023",
          "2023",
          "2023",
          "2023",
          "2023",
          "2023",
          "2023",
          "2023",
          "2023",
          "2023",
          "2023",
          "2023",
          "2023",
          "2023",
          "2023",
          "2023",
          "2023",
          "2023",
          "2023",
          "2023",
          "2023",
          "2023",
          "2023",
          "2023",
          "2023",
          "2023",
          "2023",
          "2023",
          "2023",
          "2023",
          "2023",
          "2023",
          "2023"
         ],
         "type": "scatter",
         "x": {
          "bdata": "AQAAAAIAAAADAAAABAAAAAUAAAAGAAAABwAAAAgAAAAJAAAACgAAAAsAAAAMAAAADQAAAA4AAAAPAAAAEAAAABEAAAASAAAAEwAAABQAAAAVAAAAFgAAABcAAAAYAAAAGQAAABoAAAAbAAAAHAAAAB0AAAAeAAAAHwAAACAAAAAhAAAAIgAAACMAAAAkAAAAJQAAACYAAAAnAAAAKAAAACkAAAAqAAAAKwAAACwAAAAtAAAALgAAAC8AAAAwAAAAMQAAADIAAAAzAAAANAAAADUAAAA=",
          "dtype": "u4"
         },
         "y": {
          "bdata": "AAAAAAAAHEAAAAAAAAAiQAAAAAAAAC5AAAAAAAAAFEAAAAAAAAAkQAAAAAAAAChAAAAAAAAAIkAAAAAAAAAYQAAAAAAAADFAAAAAAAAAFEAAAAAAAAAkQAAAAAAAABhAAAAAAAAAJkAAAAAAAAAgQAAAAAAAADdAAAAAAAAAHEAAAAAAAAAoQAAAAAAAABxAAAAAAAAAPkAAAAAAAAAqQAAAAAAAADRAAAAAAAAALkAAAAAAAAAoQAAAAAAAADBAAAAAAAAALkAAAAAAAAAzQAAAAAAAAC5AAAAAAAAAMEAAAAAAAAAoQAAAAAAAADBAAAAAAAAAM0AAAAAAAAAoQAAAAAAAADBAAAAAAAAAJkAAAAAAAAAuQAAAAAAAAChAAAAAAAAAIEAAAAAAAAAmQAAAAAAAACxAAAAAAAAAIkAAAAAAAAAkQAAAAAAAAChAAAAAAAAAKkAAAAAAAAAwQAAAAAAAADFAAAAAAAAAJkAAAAAAAAAgQAAAAAAAABhAAAAAAAAAKEAAAAAAAAAmQAAAAAAAACJAAAAAAAAAKEAAAAAAAAD4fw==",
          "dtype": "f8"
         }
        },
        {
         "hoverinfo": "x+y+name",
         "hovertemplate": "<b>Year:</b> 2024<br><b>Week:</b> %{x}<br><b>Victimizations:</b> %{y}",
         "line": {
          "shape": "spline"
         },
         "mode": "lines+markers",
         "name": "2024",
         "text": [
          "2024",
          "2024",
          "2024",
          "2024",
          "2024",
          "2024",
          "2024",
          "2024",
          "2024",
          "2024",
          "2024",
          "2024",
          "2024",
          "2024",
          "2024",
          "2024",
          "2024",
          "2024",
          "2024",
          "2024",
          "2024",
          "2024",
          "2024",
          "2024",
          "2024",
          "2024",
          "2024",
          "2024",
          "2024",
          "2024",
          "2024",
          "2024",
          "2024",
          "2024",
          "2024",
          "2024",
          "2024",
          "2024",
          "2024",
          "2024",
          "2024",
          "2024",
          "2024",
          "2024",
          "2024",
          "2024",
          "2024",
          "2024",
          "2024",
          "2024",
          "2024",
          "2024",
          "2024"
         ],
         "type": "scatter",
         "x": {
          "bdata": "AQAAAAIAAAADAAAABAAAAAUAAAAGAAAABwAAAAgAAAAJAAAACgAAAAsAAAAMAAAADQAAAA4AAAAPAAAAEAAAABEAAAASAAAAEwAAABQAAAAVAAAAFgAAABcAAAAYAAAAGQAAABoAAAAbAAAAHAAAAB0AAAAeAAAAHwAAACAAAAAhAAAAIgAAACMAAAAkAAAAJQAAACYAAAAnAAAAKAAAACkAAAAqAAAAKwAAACwAAAAtAAAALgAAAC8AAAAwAAAAMQAAADIAAAAzAAAANAAAADUAAAA=",
          "dtype": "u4"
         },
         "y": {
          "bdata": "AAAAAAAAJkAAAAAAAAAUQAAAAAAAABBAAAAAAAAAJEAAAAAAAAAoQAAAAAAAABxAAAAAAAAAIEAAAAAAAAAiQAAAAAAAACJAAAAAAAAAIkAAAAAAAAAxQAAAAAAAAAhAAAAAAAAAMEAAAAAAAAAiQAAAAAAAACpAAAAAAAAAJEAAAAAAAAAQQAAAAAAAACxAAAAAAAAAJEAAAAAAAAAgQAAAAAAAACxAAAAAAAAALkAAAAAAAAAuQAAAAAAAAChAAAAAAAAAOEAAAAAAAAAxQAAAAAAAADtAAAAAAAAAM0AAAAAAAAAYQAAAAAAAACZAAAAAAAAAJkAAAAAAAAAgQAAAAAAAACpAAAAAAAAAMUAAAAAAAAAoQAAAAAAAACJAAAAAAAAALEAAAAAAAAAsQAAAAAAAACRAAAAAAAAAJkAAAAAAAAAmQAAAAAAAADJAAAAAAAAAKkAAAAAAAAAIQAAAAAAAACpAAAAAAAAAIEAAAAAAAAAgQAAAAAAAACBAAAAAAAAAJkAAAAAAAAAsQAAAAAAAACJAAAAAAAAAEEAAAAAAAAD4fw==",
          "dtype": "f8"
         }
        }
       ],
       "layout": {
        "hovermode": "closest",
        "template": {
         "data": {
          "bar": [
           {
            "error_x": {
             "color": "#2a3f5f"
            },
            "error_y": {
             "color": "#2a3f5f"
            },
            "marker": {
             "line": {
              "color": "white",
              "width": 0.5
             },
             "pattern": {
              "fillmode": "overlay",
              "size": 10,
              "solidity": 0.2
             }
            },
            "type": "bar"
           }
          ],
          "barpolar": [
           {
            "marker": {
             "line": {
              "color": "white",
              "width": 0.5
             },
             "pattern": {
              "fillmode": "overlay",
              "size": 10,
              "solidity": 0.2
             }
            },
            "type": "barpolar"
           }
          ],
          "carpet": [
           {
            "aaxis": {
             "endlinecolor": "#2a3f5f",
             "gridcolor": "#C8D4E3",
             "linecolor": "#C8D4E3",
             "minorgridcolor": "#C8D4E3",
             "startlinecolor": "#2a3f5f"
            },
            "baxis": {
             "endlinecolor": "#2a3f5f",
             "gridcolor": "#C8D4E3",
             "linecolor": "#C8D4E3",
             "minorgridcolor": "#C8D4E3",
             "startlinecolor": "#2a3f5f"
            },
            "type": "carpet"
           }
          ],
          "choropleth": [
           {
            "colorbar": {
             "outlinewidth": 0,
             "ticks": ""
            },
            "type": "choropleth"
           }
          ],
          "contour": [
           {
            "colorbar": {
             "outlinewidth": 0,
             "ticks": ""
            },
            "colorscale": [
             [
              0,
              "#0d0887"
             ],
             [
              0.1111111111111111,
              "#46039f"
             ],
             [
              0.2222222222222222,
              "#7201a8"
             ],
             [
              0.3333333333333333,
              "#9c179e"
             ],
             [
              0.4444444444444444,
              "#bd3786"
             ],
             [
              0.5555555555555556,
              "#d8576b"
             ],
             [
              0.6666666666666666,
              "#ed7953"
             ],
             [
              0.7777777777777778,
              "#fb9f3a"
             ],
             [
              0.8888888888888888,
              "#fdca26"
             ],
             [
              1,
              "#f0f921"
             ]
            ],
            "type": "contour"
           }
          ],
          "contourcarpet": [
           {
            "colorbar": {
             "outlinewidth": 0,
             "ticks": ""
            },
            "type": "contourcarpet"
           }
          ],
          "heatmap": [
           {
            "colorbar": {
             "outlinewidth": 0,
             "ticks": ""
            },
            "colorscale": [
             [
              0,
              "#0d0887"
             ],
             [
              0.1111111111111111,
              "#46039f"
             ],
             [
              0.2222222222222222,
              "#7201a8"
             ],
             [
              0.3333333333333333,
              "#9c179e"
             ],
             [
              0.4444444444444444,
              "#bd3786"
             ],
             [
              0.5555555555555556,
              "#d8576b"
             ],
             [
              0.6666666666666666,
              "#ed7953"
             ],
             [
              0.7777777777777778,
              "#fb9f3a"
             ],
             [
              0.8888888888888888,
              "#fdca26"
             ],
             [
              1,
              "#f0f921"
             ]
            ],
            "type": "heatmap"
           }
          ],
          "histogram": [
           {
            "marker": {
             "pattern": {
              "fillmode": "overlay",
              "size": 10,
              "solidity": 0.2
             }
            },
            "type": "histogram"
           }
          ],
          "histogram2d": [
           {
            "colorbar": {
             "outlinewidth": 0,
             "ticks": ""
            },
            "colorscale": [
             [
              0,
              "#0d0887"
             ],
             [
              0.1111111111111111,
              "#46039f"
             ],
             [
              0.2222222222222222,
              "#7201a8"
             ],
             [
              0.3333333333333333,
              "#9c179e"
             ],
             [
              0.4444444444444444,
              "#bd3786"
             ],
             [
              0.5555555555555556,
              "#d8576b"
             ],
             [
              0.6666666666666666,
              "#ed7953"
             ],
             [
              0.7777777777777778,
              "#fb9f3a"
             ],
             [
              0.8888888888888888,
              "#fdca26"
             ],
             [
              1,
              "#f0f921"
             ]
            ],
            "type": "histogram2d"
           }
          ],
          "histogram2dcontour": [
           {
            "colorbar": {
             "outlinewidth": 0,
             "ticks": ""
            },
            "colorscale": [
             [
              0,
              "#0d0887"
             ],
             [
              0.1111111111111111,
              "#46039f"
             ],
             [
              0.2222222222222222,
              "#7201a8"
             ],
             [
              0.3333333333333333,
              "#9c179e"
             ],
             [
              0.4444444444444444,
              "#bd3786"
             ],
             [
              0.5555555555555556,
              "#d8576b"
             ],
             [
              0.6666666666666666,
              "#ed7953"
             ],
             [
              0.7777777777777778,
              "#fb9f3a"
             ],
             [
              0.8888888888888888,
              "#fdca26"
             ],
             [
              1,
              "#f0f921"
             ]
            ],
            "type": "histogram2dcontour"
           }
          ],
          "mesh3d": [
           {
            "colorbar": {
             "outlinewidth": 0,
             "ticks": ""
            },
            "type": "mesh3d"
           }
          ],
          "parcoords": [
           {
            "line": {
             "colorbar": {
              "outlinewidth": 0,
              "ticks": ""
             }
            },
            "type": "parcoords"
           }
          ],
          "pie": [
           {
            "automargin": true,
            "type": "pie"
           }
          ],
          "scatter": [
           {
            "fillpattern": {
             "fillmode": "overlay",
             "size": 10,
             "solidity": 0.2
            },
            "type": "scatter"
           }
          ],
          "scatter3d": [
           {
            "line": {
             "colorbar": {
              "outlinewidth": 0,
              "ticks": ""
             }
            },
            "marker": {
             "colorbar": {
              "outlinewidth": 0,
              "ticks": ""
             }
            },
            "type": "scatter3d"
           }
          ],
          "scattercarpet": [
           {
            "marker": {
             "colorbar": {
              "outlinewidth": 0,
              "ticks": ""
             }
            },
            "type": "scattercarpet"
           }
          ],
          "scattergeo": [
           {
            "marker": {
             "colorbar": {
              "outlinewidth": 0,
              "ticks": ""
             }
            },
            "type": "scattergeo"
           }
          ],
          "scattergl": [
           {
            "marker": {
             "colorbar": {
              "outlinewidth": 0,
              "ticks": ""
             }
            },
            "type": "scattergl"
           }
          ],
          "scattermap": [
           {
            "marker": {
             "colorbar": {
              "outlinewidth": 0,
              "ticks": ""
             }
            },
            "type": "scattermap"
           }
          ],
          "scattermapbox": [
           {
            "marker": {
             "colorbar": {
              "outlinewidth": 0,
              "ticks": ""
             }
            },
            "type": "scattermapbox"
           }
          ],
          "scatterpolar": [
           {
            "marker": {
             "colorbar": {
              "outlinewidth": 0,
              "ticks": ""
             }
            },
            "type": "scatterpolar"
           }
          ],
          "scatterpolargl": [
           {
            "marker": {
             "colorbar": {
              "outlinewidth": 0,
              "ticks": ""
             }
            },
            "type": "scatterpolargl"
           }
          ],
          "scatterternary": [
           {
            "marker": {
             "colorbar": {
              "outlinewidth": 0,
              "ticks": ""
             }
            },
            "type": "scatterternary"
           }
          ],
          "surface": [
           {
            "colorbar": {
             "outlinewidth": 0,
             "ticks": ""
            },
            "colorscale": [
             [
              0,
              "#0d0887"
             ],
             [
              0.1111111111111111,
              "#46039f"
             ],
             [
              0.2222222222222222,
              "#7201a8"
             ],
             [
              0.3333333333333333,
              "#9c179e"
             ],
             [
              0.4444444444444444,
              "#bd3786"
             ],
             [
              0.5555555555555556,
              "#d8576b"
             ],
             [
              0.6666666666666666,
              "#ed7953"
             ],
             [
              0.7777777777777778,
              "#fb9f3a"
             ],
             [
              0.8888888888888888,
              "#fdca26"
             ],
             [
              1,
              "#f0f921"
             ]
            ],
            "type": "surface"
           }
          ],
          "table": [
           {
            "cells": {
             "fill": {
              "color": "#EBF0F8"
             },
             "line": {
              "color": "white"
             }
            },
            "header": {
             "fill": {
              "color": "#C8D4E3"
             },
             "line": {
              "color": "white"
             }
            },
            "type": "table"
           }
          ]
         },
         "layout": {
          "annotationdefaults": {
           "arrowcolor": "#2a3f5f",
           "arrowhead": 0,
           "arrowwidth": 1
          },
          "autotypenumbers": "strict",
          "coloraxis": {
           "colorbar": {
            "outlinewidth": 0,
            "ticks": ""
           }
          },
          "colorscale": {
           "diverging": [
            [
             0,
             "#8e0152"
            ],
            [
             0.1,
             "#c51b7d"
            ],
            [
             0.2,
             "#de77ae"
            ],
            [
             0.3,
             "#f1b6da"
            ],
            [
             0.4,
             "#fde0ef"
            ],
            [
             0.5,
             "#f7f7f7"
            ],
            [
             0.6,
             "#e6f5d0"
            ],
            [
             0.7,
             "#b8e186"
            ],
            [
             0.8,
             "#7fbc41"
            ],
            [
             0.9,
             "#4d9221"
            ],
            [
             1,
             "#276419"
            ]
           ],
           "sequential": [
            [
             0,
             "#0d0887"
            ],
            [
             0.1111111111111111,
             "#46039f"
            ],
            [
             0.2222222222222222,
             "#7201a8"
            ],
            [
             0.3333333333333333,
             "#9c179e"
            ],
            [
             0.4444444444444444,
             "#bd3786"
            ],
            [
             0.5555555555555556,
             "#d8576b"
            ],
            [
             0.6666666666666666,
             "#ed7953"
            ],
            [
             0.7777777777777778,
             "#fb9f3a"
            ],
            [
             0.8888888888888888,
             "#fdca26"
            ],
            [
             1,
             "#f0f921"
            ]
           ],
           "sequentialminus": [
            [
             0,
             "#0d0887"
            ],
            [
             0.1111111111111111,
             "#46039f"
            ],
            [
             0.2222222222222222,
             "#7201a8"
            ],
            [
             0.3333333333333333,
             "#9c179e"
            ],
            [
             0.4444444444444444,
             "#bd3786"
            ],
            [
             0.5555555555555556,
             "#d8576b"
            ],
            [
             0.6666666666666666,
             "#ed7953"
            ],
            [
             0.7777777777777778,
             "#fb9f3a"
            ],
            [
             0.8888888888888888,
             "#fdca26"
            ],
            [
             1,
             "#f0f921"
            ]
           ]
          },
          "colorway": [
           "#636efa",
           "#EF553B",
           "#00cc96",
           "#ab63fa",
           "#FFA15A",
           "#19d3f3",
           "#FF6692",
           "#B6E880",
           "#FF97FF",
           "#FECB52"
          ],
          "font": {
           "color": "#2a3f5f"
          },
          "geo": {
           "bgcolor": "white",
           "lakecolor": "white",
           "landcolor": "white",
           "showlakes": true,
           "showland": true,
           "subunitcolor": "#C8D4E3"
          },
          "hoverlabel": {
           "align": "left"
          },
          "hovermode": "closest",
          "mapbox": {
           "style": "light"
          },
          "paper_bgcolor": "white",
          "plot_bgcolor": "white",
          "polar": {
           "angularaxis": {
            "gridcolor": "#EBF0F8",
            "linecolor": "#EBF0F8",
            "ticks": ""
           },
           "bgcolor": "white",
           "radialaxis": {
            "gridcolor": "#EBF0F8",
            "linecolor": "#EBF0F8",
            "ticks": ""
           }
          },
          "scene": {
           "xaxis": {
            "backgroundcolor": "white",
            "gridcolor": "#DFE8F3",
            "gridwidth": 2,
            "linecolor": "#EBF0F8",
            "showbackground": true,
            "ticks": "",
            "zerolinecolor": "#EBF0F8"
           },
           "yaxis": {
            "backgroundcolor": "white",
            "gridcolor": "#DFE8F3",
            "gridwidth": 2,
            "linecolor": "#EBF0F8",
            "showbackground": true,
            "ticks": "",
            "zerolinecolor": "#EBF0F8"
           },
           "zaxis": {
            "backgroundcolor": "white",
            "gridcolor": "#DFE8F3",
            "gridwidth": 2,
            "linecolor": "#EBF0F8",
            "showbackground": true,
            "ticks": "",
            "zerolinecolor": "#EBF0F8"
           }
          },
          "shapedefaults": {
           "line": {
            "color": "#2a3f5f"
           }
          },
          "ternary": {
           "aaxis": {
            "gridcolor": "#DFE8F3",
            "linecolor": "#A2B1C6",
            "ticks": ""
           },
           "baxis": {
            "gridcolor": "#DFE8F3",
            "linecolor": "#A2B1C6",
            "ticks": ""
           },
           "bgcolor": "white",
           "caxis": {
            "gridcolor": "#DFE8F3",
            "linecolor": "#A2B1C6",
            "ticks": ""
           }
          },
          "title": {
           "x": 0.05
          },
          "xaxis": {
           "automargin": true,
           "gridcolor": "#EBF0F8",
           "linecolor": "#EBF0F8",
           "ticks": "",
           "title": {
            "standoff": 15
           },
           "zerolinecolor": "#EBF0F8",
           "zerolinewidth": 2
          },
          "yaxis": {
           "automargin": true,
           "gridcolor": "#EBF0F8",
           "linecolor": "#EBF0F8",
           "ticks": "",
           "title": {
            "standoff": 15
           },
           "zerolinecolor": "#EBF0F8",
           "zerolinewidth": 2
          }
         }
        },
        "title": {
         "text": "Homicide & Non-Fatal Shootings Trends (2019-2024) - weekly View"
        },
        "xaxis": {
         "tickmode": "array",
         "ticktext": {
          "bdata": "AQAAAAIAAAADAAAABAAAAAUAAAAGAAAABwAAAAgAAAAJAAAACgAAAAsAAAAMAAAADQAAAA4AAAAPAAAAEAAAABEAAAASAAAAEwAAABQAAAAVAAAAFgAAABcAAAAYAAAAGQAAABoAAAAbAAAAHAAAAB0AAAAeAAAAHwAAACAAAAAhAAAAIgAAACMAAAAkAAAAJQAAACYAAAAnAAAAKAAAACkAAAAqAAAAKwAAACwAAAAtAAAALgAAAC8AAAAwAAAAMQAAADIAAAAzAAAANAAAADUAAAA=",
          "dtype": "u4"
         },
         "tickvals": {
          "bdata": "AQAAAAIAAAADAAAABAAAAAUAAAAGAAAABwAAAAgAAAAJAAAACgAAAAsAAAAMAAAADQAAAA4AAAAPAAAAEAAAABEAAAASAAAAEwAAABQAAAAVAAAAFgAAABcAAAAYAAAAGQAAABoAAAAbAAAAHAAAAB0AAAAeAAAAHwAAACAAAAAhAAAAIgAAACMAAAAkAAAAJQAAACYAAAAnAAAAKAAAACkAAAAqAAAAKwAAACwAAAAtAAAALgAAAC8AAAAwAAAAMQAAADIAAAAzAAAANAAAADUAAAA=",
          "dtype": "u4"
         },
         "title": {
          "text": "Week"
         }
        },
        "yaxis": {
         "title": {
          "text": "Number of Victimizations"
         }
        }
       }
      }
     },
     "metadata": {},
     "output_type": "display_data"
    },
    {
     "data": {
      "application/vnd.jupyter.widget-view+json": {
       "model_id": "5136c279c908452cb10f75c4edaddce7",
       "version_major": 2,
       "version_minor": 0
      },
      "text/plain": [
       "HBox(children=(Dropdown(description='Rolling Avg:', options=(('7 Day rolling Average', 'weekly'), ('Monthly Av…"
      ]
     },
     "metadata": {},
     "output_type": "display_data"
    },
    {
     "data": {
      "application/vnd.jupyter.widget-view+json": {
       "model_id": "401e4354c67344ae98bdf64b74cd2214",
       "version_major": 2,
       "version_minor": 0
      },
      "text/plain": [
       "Output()"
      ]
     },
     "metadata": {},
     "output_type": "display_data"
    }
   ],
   "source": [
    "import pandas as pd\n",
    "import plotly.graph_objects as go\n",
    "import ipywidgets as widgets\n",
    "from IPython.display import display\n",
    "\n",
    "# Load the CSV file\n",
    "file_path = \"Shootings.csv\"\n",
    "df = pd.read_csv(file_path, parse_dates=['DATE'], low_memory=False)\n",
    "\n",
    "# Extract year and week number\n",
    "df['Year'] = df['DATE'].dt.year\n",
    "df['Week_Number'] = df['DATE'].dt.isocalendar().week\n",
    "df['Month'] = df['DATE'].dt.month\n",
    "\n",
    "# Filter only years 2019-2024\n",
    "df_filtered = df[df['Year'].between(2019, 2024)]\n",
    "\n",
    "# Filter only HOMICIDE and NON-FATAL SHOOTINGS cases\n",
    "df_violent = df_filtered[df_filtered['VICTIMIZATION_PRIMARY'].str.contains(\"HOMICIDE|NON-FATAL\", na=False, case=False)]\n",
    "\n",
    "# Rolling average dropdown selector\n",
    "rolling_avg_selector = widgets.Dropdown(\n",
    "    options=[('7 Day rolling Average', 'weekly'), ('Monthly Average', 'monthly')],\n",
    "    value='weekly',\n",
    "    description=\"Rolling Avg:\",\n",
    "    style={'description_width': 'initial'}\n",
    ")\n",
    "\n",
    "# Create an output widget for updating the graph dynamically\n",
    "output = widgets.Output()\n",
    "\n",
    "def update_graph(rolling_window):\n",
    "    with output:\n",
    "        output.clear_output(wait=True)\n",
    "        fig = go.Figure()\n",
    "        \n",
    "        if rolling_window == 'monthly':  # Monthly aggregation\n",
    "            victimization_counts = df_violent.groupby(['Year', 'Month']).size().unstack(level=0)\n",
    "            x_axis = list(range(1, 13))  # Months (1-12)\n",
    "            x_labels = [\"Jan\", \"Feb\", \"Mar\", \"Apr\", \"May\", \"Jun\", \"Jul\", \"Aug\", \"Sep\", \"Oct\", \"Nov\", \"Dec\"]\n",
    "            time_label = \"Month\"\n",
    "        else:  # Weekly basis\n",
    "            victimization_counts = df_violent.groupby(['Year', 'Week_Number']).size().unstack(level=0)\n",
    "            x_axis = victimization_counts.index\n",
    "            x_labels = x_axis  # Keep week numbers as labels\n",
    "            time_label = \"Week\"\n",
    "        \n",
    "        for year in victimization_counts.columns:\n",
    "            fig.add_trace(go.Scatter(\n",
    "                x=x_axis, y=victimization_counts[year],\n",
    "                mode='lines+markers',\n",
    "                name=str(year),\n",
    "                hoverinfo='x+y+name',\n",
    "                hovertemplate=\n",
    "                \"<b>Year:</b> \" + str(year) + \"<br>\"\n",
    "                \"<b>\" + time_label + \":</b> %{x}<br>\"\n",
    "                \"<b>Victimizations:</b> %{y}\",\n",
    "                text=[str(year)] * len(x_axis),  # Ensures only the hovered line shows its data\n",
    "                line_shape='spline'  # Smooth line for better hovering\n",
    "            ))\n",
    "        \n",
    "        fig.update_layout(\n",
    "            title=f\"Homicide & Non-Fatal Shootings Trends (2019-2024) - {rolling_window} View\",\n",
    "            xaxis_title=time_label,\n",
    "            xaxis=dict(tickmode='array', tickvals=x_axis, ticktext=x_labels),\n",
    "            yaxis_title=\"Number of Victimizations\",\n",
    "            template=\"plotly_white\",\n",
    "            hovermode=\"closest\"  # Ensures only the closest hovered point shows hover info\n",
    "        )\n",
    "        \n",
    "        fig.show()\n",
    "\n",
    "# Display widgets on the top left\n",
    "ui = widgets.HBox([rolling_avg_selector])\n",
    "widgets.interactive(update_graph, rolling_window=rolling_avg_selector)\n",
    "display(ui, output)"
   ]
  },
  {
   "cell_type": "code",
   "execution_count": 66,
   "metadata": {},
   "outputs": [
    {
     "name": "stderr",
     "output_type": "stream",
     "text": [
      "C:\\Users\\Kevin\\AppData\\Local\\Temp\\ipykernel_632\\1199966127.py:8: UserWarning:\n",
      "\n",
      "Could not infer format, so each element will be parsed individually, falling back to `dateutil`. To ensure parsing is consistent and as-expected, please specify a format.\n",
      "\n",
      "C:\\Users\\Kevin\\AppData\\Local\\Temp\\ipykernel_632\\1199966127.py:35: SettingWithCopyWarning:\n",
      "\n",
      "\n",
      "A value is trying to be set on a copy of a slice from a DataFrame.\n",
      "Try using .loc[row_indexer,col_indexer] = value instead\n",
      "\n",
      "See the caveats in the documentation: https://pandas.pydata.org/pandas-docs/stable/user_guide/indexing.html#returning-a-view-versus-a-copy\n",
      "\n",
      "C:\\Users\\Kevin\\AppData\\Local\\Temp\\ipykernel_632\\1199966127.py:38: SettingWithCopyWarning:\n",
      "\n",
      "\n",
      "A value is trying to be set on a copy of a slice from a DataFrame.\n",
      "Try using .loc[row_indexer,col_indexer] = value instead\n",
      "\n",
      "See the caveats in the documentation: https://pandas.pydata.org/pandas-docs/stable/user_guide/indexing.html#returning-a-view-versus-a-copy\n",
      "\n"
     ]
    },
    {
     "data": {
      "application/vnd.plotly.v1+json": {
       "config": {
        "plotlyServerURL": "https://plot.ly"
       },
       "data": [
        {
         "hoverinfo": "x+y+name",
         "hovertemplate": "<b>Region:</b> Central<br><b>Month:</b> %{x}<br><b>Victimizations:</b> %{y}",
         "line": {
          "shape": "spline"
         },
         "mode": "lines+markers",
         "name": "Central",
         "type": "scatter",
         "x": [
          1,
          2,
          3,
          4,
          5,
          6,
          7,
          8,
          9,
          10,
          11,
          12
         ],
         "y": {
          "bdata": "AAAAAAAAEEAAAAAAAAAAQAAAAAAAABRAAAAAAAAAEEAAAAAAAAAUQAAAAAAAABxAAAAAAAAAKEAAAAAAAAAAQAAAAAAAABxAAAAAAAAACEAAAAAAAAAIQAAAAAAAAABA",
          "dtype": "f8"
         }
        },
        {
         "hoverinfo": "x+y+name",
         "hovertemplate": "<b>Region:</b> Far North Side<br><b>Month:</b> %{x}<br><b>Victimizations:</b> %{y}",
         "line": {
          "shape": "spline"
         },
         "mode": "lines+markers",
         "name": "Far North Side",
         "type": "scatter",
         "x": [
          1,
          2,
          3,
          4,
          5,
          6,
          7,
          8,
          9,
          10,
          11,
          12
         ],
         "y": {
          "bdata": "AAAAAAAA+H8AAAAAAAD4fwAAAAAAAABAAAAAAAAA+H8AAAAAAADwPwAAAAAAAPA/AAAAAAAA8D8AAAAAAADwPwAAAAAAAPh/AAAAAAAA8D8AAAAAAAD4fwAAAAAAAPA/",
          "dtype": "f8"
         }
        },
        {
         "hoverinfo": "x+y+name",
         "hovertemplate": "<b>Region:</b> Far Southeast Side<br><b>Month:</b> %{x}<br><b>Victimizations:</b> %{y}",
         "line": {
          "shape": "spline"
         },
         "mode": "lines+markers",
         "name": "Far Southeast Side",
         "type": "scatter",
         "x": [
          1,
          2,
          3,
          4,
          5,
          6,
          7,
          8,
          9,
          10,
          11,
          12
         ],
         "y": {
          "bdata": "AAAAAAAA+H8AAAAAAAD4fwAAAAAAAPh/AAAAAAAA8D8AAAAAAAAAQAAAAAAAABBAAAAAAAAAAEAAAAAAAADwPwAAAAAAAABAAAAAAAAAGEAAAAAAAAAAQAAAAAAAAPh/",
          "dtype": "f8"
         }
        },
        {
         "hoverinfo": "x+y+name",
         "hovertemplate": "<b>Region:</b> Far Southwest Side<br><b>Month:</b> %{x}<br><b>Victimizations:</b> %{y}",
         "line": {
          "shape": "spline"
         },
         "mode": "lines+markers",
         "name": "Far Southwest Side",
         "type": "scatter",
         "x": [
          1,
          2,
          3,
          4,
          5,
          6,
          7,
          8,
          9,
          10,
          11,
          12
         ],
         "y": {
          "bdata": "AAAAAAAAIkAAAAAAAAAUQAAAAAAAABRAAAAAAAAAFEAAAAAAAAAcQAAAAAAAACxAAAAAAAAAKkAAAAAAAAAgQAAAAAAAACBAAAAAAAAAIEAAAAAAAAAcQAAAAAAAABhA",
          "dtype": "f8"
         }
        },
        {
         "hoverinfo": "x+y+name",
         "hovertemplate": "<b>Region:</b> North Side<br><b>Month:</b> %{x}<br><b>Victimizations:</b> %{y}",
         "line": {
          "shape": "spline"
         },
         "mode": "lines+markers",
         "name": "North Side",
         "type": "scatter",
         "x": [
          1,
          2,
          3,
          4,
          5,
          6,
          7,
          8,
          9,
          10,
          11,
          12
         ],
         "y": {
          "bdata": "AAAAAAAA+H8AAAAAAAD4fwAAAAAAAPA/AAAAAAAA+H8AAAAAAADwPwAAAAAAAPA/AAAAAAAA8D8AAAAAAAD4fwAAAAAAAPh/AAAAAAAA+H8AAAAAAAD4fwAAAAAAAPh/",
          "dtype": "f8"
         }
        },
        {
         "hoverinfo": "x+y+name",
         "hovertemplate": "<b>Region:</b> Northwest Side<br><b>Month:</b> %{x}<br><b>Victimizations:</b> %{y}",
         "line": {
          "shape": "spline"
         },
         "mode": "lines+markers",
         "name": "Northwest Side",
         "type": "scatter",
         "x": [
          1,
          2,
          3,
          4,
          5,
          6,
          7,
          8,
          9,
          10,
          11,
          12
         ],
         "y": {
          "bdata": "AAAAAAAAAEAAAAAAAAD4fwAAAAAAAABAAAAAAAAA8D8AAAAAAAD4fwAAAAAAAAhAAAAAAAAA8D8AAAAAAAAAQAAAAAAAAABAAAAAAAAA8D8AAAAAAAD4fwAAAAAAABhA",
          "dtype": "f8"
         }
        },
        {
         "hoverinfo": "x+y+name",
         "hovertemplate": "<b>Region:</b> South Side<br><b>Month:</b> %{x}<br><b>Victimizations:</b> %{y}",
         "line": {
          "shape": "spline"
         },
         "mode": "lines+markers",
         "name": "South Side",
         "type": "scatter",
         "x": [
          1,
          2,
          3,
          4,
          5,
          6,
          7,
          8,
          9,
          10,
          11,
          12
         ],
         "y": {
          "bdata": "AAAAAAAANEAAAAAAAAAqQAAAAAAAAD9AAAAAAAAANUAAAAAAAAAxQAAAAAAAADpAAAAAAACAQkAAAAAAAAA8QAAAAAAAgERAAAAAAAAALkAAAAAAAAA4QAAAAAAAADNA",
          "dtype": "f8"
         }
        },
        {
         "hoverinfo": "x+y+name",
         "hovertemplate": "<b>Region:</b> Southwest Side<br><b>Month:</b> %{x}<br><b>Victimizations:</b> %{y}",
         "line": {
          "shape": "spline"
         },
         "mode": "lines+markers",
         "name": "Southwest Side",
         "type": "scatter",
         "x": [
          1,
          2,
          3,
          4,
          5,
          6,
          7,
          8,
          9,
          10,
          11,
          12
         ],
         "y": {
          "bdata": "AAAAAAAA8D8AAAAAAAAYQAAAAAAAACJAAAAAAAAAGEAAAAAAAADwPwAAAAAAACJAAAAAAAAAHEAAAAAAAAAkQAAAAAAAACJAAAAAAAAAFEAAAAAAAAAYQAAAAAAAABhA",
          "dtype": "f8"
         }
        },
        {
         "hoverinfo": "x+y+name",
         "hovertemplate": "<b>Region:</b> Unknown<br><b>Month:</b> %{x}<br><b>Victimizations:</b> %{y}",
         "line": {
          "shape": "spline"
         },
         "mode": "lines+markers",
         "name": "Unknown",
         "type": "scatter",
         "x": [
          1,
          2,
          3,
          4,
          5,
          6,
          7,
          8,
          9,
          10,
          11,
          12
         ],
         "y": {
          "bdata": "AAAAAAAACEAAAAAAAAAIQAAAAAAAAABAAAAAAAAAAEAAAAAAAAAQQAAAAAAAABRAAAAAAAAAEEAAAAAAAAAcQAAAAAAAAABAAAAAAAAAGEAAAAAAAAAAQAAAAAAAABRA",
          "dtype": "f8"
         }
        },
        {
         "hoverinfo": "x+y+name",
         "hovertemplate": "<b>Region:</b> West Side<br><b>Month:</b> %{x}<br><b>Victimizations:</b> %{y}",
         "line": {
          "shape": "spline"
         },
         "mode": "lines+markers",
         "name": "West Side",
         "type": "scatter",
         "x": [
          1,
          2,
          3,
          4,
          5,
          6,
          7,
          8,
          9,
          10,
          11,
          12
         ],
         "y": {
          "bdata": "AAAAAAAAMkAAAAAAAAAcQAAAAAAAACRAAAAAAAAALEAAAAAAAAA+QAAAAAAAADJAAAAAAAAAQUAAAAAAAAA5QAAAAAAAADtAAAAAAAAAMEAAAAAAAAAuQAAAAAAAACBA",
          "dtype": "f8"
         }
        }
       ],
       "layout": {
        "hovermode": "closest",
        "template": {
         "data": {
          "bar": [
           {
            "error_x": {
             "color": "#2a3f5f"
            },
            "error_y": {
             "color": "#2a3f5f"
            },
            "marker": {
             "line": {
              "color": "white",
              "width": 0.5
             },
             "pattern": {
              "fillmode": "overlay",
              "size": 10,
              "solidity": 0.2
             }
            },
            "type": "bar"
           }
          ],
          "barpolar": [
           {
            "marker": {
             "line": {
              "color": "white",
              "width": 0.5
             },
             "pattern": {
              "fillmode": "overlay",
              "size": 10,
              "solidity": 0.2
             }
            },
            "type": "barpolar"
           }
          ],
          "carpet": [
           {
            "aaxis": {
             "endlinecolor": "#2a3f5f",
             "gridcolor": "#C8D4E3",
             "linecolor": "#C8D4E3",
             "minorgridcolor": "#C8D4E3",
             "startlinecolor": "#2a3f5f"
            },
            "baxis": {
             "endlinecolor": "#2a3f5f",
             "gridcolor": "#C8D4E3",
             "linecolor": "#C8D4E3",
             "minorgridcolor": "#C8D4E3",
             "startlinecolor": "#2a3f5f"
            },
            "type": "carpet"
           }
          ],
          "choropleth": [
           {
            "colorbar": {
             "outlinewidth": 0,
             "ticks": ""
            },
            "type": "choropleth"
           }
          ],
          "contour": [
           {
            "colorbar": {
             "outlinewidth": 0,
             "ticks": ""
            },
            "colorscale": [
             [
              0,
              "#0d0887"
             ],
             [
              0.1111111111111111,
              "#46039f"
             ],
             [
              0.2222222222222222,
              "#7201a8"
             ],
             [
              0.3333333333333333,
              "#9c179e"
             ],
             [
              0.4444444444444444,
              "#bd3786"
             ],
             [
              0.5555555555555556,
              "#d8576b"
             ],
             [
              0.6666666666666666,
              "#ed7953"
             ],
             [
              0.7777777777777778,
              "#fb9f3a"
             ],
             [
              0.8888888888888888,
              "#fdca26"
             ],
             [
              1,
              "#f0f921"
             ]
            ],
            "type": "contour"
           }
          ],
          "contourcarpet": [
           {
            "colorbar": {
             "outlinewidth": 0,
             "ticks": ""
            },
            "type": "contourcarpet"
           }
          ],
          "heatmap": [
           {
            "colorbar": {
             "outlinewidth": 0,
             "ticks": ""
            },
            "colorscale": [
             [
              0,
              "#0d0887"
             ],
             [
              0.1111111111111111,
              "#46039f"
             ],
             [
              0.2222222222222222,
              "#7201a8"
             ],
             [
              0.3333333333333333,
              "#9c179e"
             ],
             [
              0.4444444444444444,
              "#bd3786"
             ],
             [
              0.5555555555555556,
              "#d8576b"
             ],
             [
              0.6666666666666666,
              "#ed7953"
             ],
             [
              0.7777777777777778,
              "#fb9f3a"
             ],
             [
              0.8888888888888888,
              "#fdca26"
             ],
             [
              1,
              "#f0f921"
             ]
            ],
            "type": "heatmap"
           }
          ],
          "histogram": [
           {
            "marker": {
             "pattern": {
              "fillmode": "overlay",
              "size": 10,
              "solidity": 0.2
             }
            },
            "type": "histogram"
           }
          ],
          "histogram2d": [
           {
            "colorbar": {
             "outlinewidth": 0,
             "ticks": ""
            },
            "colorscale": [
             [
              0,
              "#0d0887"
             ],
             [
              0.1111111111111111,
              "#46039f"
             ],
             [
              0.2222222222222222,
              "#7201a8"
             ],
             [
              0.3333333333333333,
              "#9c179e"
             ],
             [
              0.4444444444444444,
              "#bd3786"
             ],
             [
              0.5555555555555556,
              "#d8576b"
             ],
             [
              0.6666666666666666,
              "#ed7953"
             ],
             [
              0.7777777777777778,
              "#fb9f3a"
             ],
             [
              0.8888888888888888,
              "#fdca26"
             ],
             [
              1,
              "#f0f921"
             ]
            ],
            "type": "histogram2d"
           }
          ],
          "histogram2dcontour": [
           {
            "colorbar": {
             "outlinewidth": 0,
             "ticks": ""
            },
            "colorscale": [
             [
              0,
              "#0d0887"
             ],
             [
              0.1111111111111111,
              "#46039f"
             ],
             [
              0.2222222222222222,
              "#7201a8"
             ],
             [
              0.3333333333333333,
              "#9c179e"
             ],
             [
              0.4444444444444444,
              "#bd3786"
             ],
             [
              0.5555555555555556,
              "#d8576b"
             ],
             [
              0.6666666666666666,
              "#ed7953"
             ],
             [
              0.7777777777777778,
              "#fb9f3a"
             ],
             [
              0.8888888888888888,
              "#fdca26"
             ],
             [
              1,
              "#f0f921"
             ]
            ],
            "type": "histogram2dcontour"
           }
          ],
          "mesh3d": [
           {
            "colorbar": {
             "outlinewidth": 0,
             "ticks": ""
            },
            "type": "mesh3d"
           }
          ],
          "parcoords": [
           {
            "line": {
             "colorbar": {
              "outlinewidth": 0,
              "ticks": ""
             }
            },
            "type": "parcoords"
           }
          ],
          "pie": [
           {
            "automargin": true,
            "type": "pie"
           }
          ],
          "scatter": [
           {
            "fillpattern": {
             "fillmode": "overlay",
             "size": 10,
             "solidity": 0.2
            },
            "type": "scatter"
           }
          ],
          "scatter3d": [
           {
            "line": {
             "colorbar": {
              "outlinewidth": 0,
              "ticks": ""
             }
            },
            "marker": {
             "colorbar": {
              "outlinewidth": 0,
              "ticks": ""
             }
            },
            "type": "scatter3d"
           }
          ],
          "scattercarpet": [
           {
            "marker": {
             "colorbar": {
              "outlinewidth": 0,
              "ticks": ""
             }
            },
            "type": "scattercarpet"
           }
          ],
          "scattergeo": [
           {
            "marker": {
             "colorbar": {
              "outlinewidth": 0,
              "ticks": ""
             }
            },
            "type": "scattergeo"
           }
          ],
          "scattergl": [
           {
            "marker": {
             "colorbar": {
              "outlinewidth": 0,
              "ticks": ""
             }
            },
            "type": "scattergl"
           }
          ],
          "scattermap": [
           {
            "marker": {
             "colorbar": {
              "outlinewidth": 0,
              "ticks": ""
             }
            },
            "type": "scattermap"
           }
          ],
          "scattermapbox": [
           {
            "marker": {
             "colorbar": {
              "outlinewidth": 0,
              "ticks": ""
             }
            },
            "type": "scattermapbox"
           }
          ],
          "scatterpolar": [
           {
            "marker": {
             "colorbar": {
              "outlinewidth": 0,
              "ticks": ""
             }
            },
            "type": "scatterpolar"
           }
          ],
          "scatterpolargl": [
           {
            "marker": {
             "colorbar": {
              "outlinewidth": 0,
              "ticks": ""
             }
            },
            "type": "scatterpolargl"
           }
          ],
          "scatterternary": [
           {
            "marker": {
             "colorbar": {
              "outlinewidth": 0,
              "ticks": ""
             }
            },
            "type": "scatterternary"
           }
          ],
          "surface": [
           {
            "colorbar": {
             "outlinewidth": 0,
             "ticks": ""
            },
            "colorscale": [
             [
              0,
              "#0d0887"
             ],
             [
              0.1111111111111111,
              "#46039f"
             ],
             [
              0.2222222222222222,
              "#7201a8"
             ],
             [
              0.3333333333333333,
              "#9c179e"
             ],
             [
              0.4444444444444444,
              "#bd3786"
             ],
             [
              0.5555555555555556,
              "#d8576b"
             ],
             [
              0.6666666666666666,
              "#ed7953"
             ],
             [
              0.7777777777777778,
              "#fb9f3a"
             ],
             [
              0.8888888888888888,
              "#fdca26"
             ],
             [
              1,
              "#f0f921"
             ]
            ],
            "type": "surface"
           }
          ],
          "table": [
           {
            "cells": {
             "fill": {
              "color": "#EBF0F8"
             },
             "line": {
              "color": "white"
             }
            },
            "header": {
             "fill": {
              "color": "#C8D4E3"
             },
             "line": {
              "color": "white"
             }
            },
            "type": "table"
           }
          ]
         },
         "layout": {
          "annotationdefaults": {
           "arrowcolor": "#2a3f5f",
           "arrowhead": 0,
           "arrowwidth": 1
          },
          "autotypenumbers": "strict",
          "coloraxis": {
           "colorbar": {
            "outlinewidth": 0,
            "ticks": ""
           }
          },
          "colorscale": {
           "diverging": [
            [
             0,
             "#8e0152"
            ],
            [
             0.1,
             "#c51b7d"
            ],
            [
             0.2,
             "#de77ae"
            ],
            [
             0.3,
             "#f1b6da"
            ],
            [
             0.4,
             "#fde0ef"
            ],
            [
             0.5,
             "#f7f7f7"
            ],
            [
             0.6,
             "#e6f5d0"
            ],
            [
             0.7,
             "#b8e186"
            ],
            [
             0.8,
             "#7fbc41"
            ],
            [
             0.9,
             "#4d9221"
            ],
            [
             1,
             "#276419"
            ]
           ],
           "sequential": [
            [
             0,
             "#0d0887"
            ],
            [
             0.1111111111111111,
             "#46039f"
            ],
            [
             0.2222222222222222,
             "#7201a8"
            ],
            [
             0.3333333333333333,
             "#9c179e"
            ],
            [
             0.4444444444444444,
             "#bd3786"
            ],
            [
             0.5555555555555556,
             "#d8576b"
            ],
            [
             0.6666666666666666,
             "#ed7953"
            ],
            [
             0.7777777777777778,
             "#fb9f3a"
            ],
            [
             0.8888888888888888,
             "#fdca26"
            ],
            [
             1,
             "#f0f921"
            ]
           ],
           "sequentialminus": [
            [
             0,
             "#0d0887"
            ],
            [
             0.1111111111111111,
             "#46039f"
            ],
            [
             0.2222222222222222,
             "#7201a8"
            ],
            [
             0.3333333333333333,
             "#9c179e"
            ],
            [
             0.4444444444444444,
             "#bd3786"
            ],
            [
             0.5555555555555556,
             "#d8576b"
            ],
            [
             0.6666666666666666,
             "#ed7953"
            ],
            [
             0.7777777777777778,
             "#fb9f3a"
            ],
            [
             0.8888888888888888,
             "#fdca26"
            ],
            [
             1,
             "#f0f921"
            ]
           ]
          },
          "colorway": [
           "#636efa",
           "#EF553B",
           "#00cc96",
           "#ab63fa",
           "#FFA15A",
           "#19d3f3",
           "#FF6692",
           "#B6E880",
           "#FF97FF",
           "#FECB52"
          ],
          "font": {
           "color": "#2a3f5f"
          },
          "geo": {
           "bgcolor": "white",
           "lakecolor": "white",
           "landcolor": "white",
           "showlakes": true,
           "showland": true,
           "subunitcolor": "#C8D4E3"
          },
          "hoverlabel": {
           "align": "left"
          },
          "hovermode": "closest",
          "mapbox": {
           "style": "light"
          },
          "paper_bgcolor": "white",
          "plot_bgcolor": "white",
          "polar": {
           "angularaxis": {
            "gridcolor": "#EBF0F8",
            "linecolor": "#EBF0F8",
            "ticks": ""
           },
           "bgcolor": "white",
           "radialaxis": {
            "gridcolor": "#EBF0F8",
            "linecolor": "#EBF0F8",
            "ticks": ""
           }
          },
          "scene": {
           "xaxis": {
            "backgroundcolor": "white",
            "gridcolor": "#DFE8F3",
            "gridwidth": 2,
            "linecolor": "#EBF0F8",
            "showbackground": true,
            "ticks": "",
            "zerolinecolor": "#EBF0F8"
           },
           "yaxis": {
            "backgroundcolor": "white",
            "gridcolor": "#DFE8F3",
            "gridwidth": 2,
            "linecolor": "#EBF0F8",
            "showbackground": true,
            "ticks": "",
            "zerolinecolor": "#EBF0F8"
           },
           "zaxis": {
            "backgroundcolor": "white",
            "gridcolor": "#DFE8F3",
            "gridwidth": 2,
            "linecolor": "#EBF0F8",
            "showbackground": true,
            "ticks": "",
            "zerolinecolor": "#EBF0F8"
           }
          },
          "shapedefaults": {
           "line": {
            "color": "#2a3f5f"
           }
          },
          "ternary": {
           "aaxis": {
            "gridcolor": "#DFE8F3",
            "linecolor": "#A2B1C6",
            "ticks": ""
           },
           "baxis": {
            "gridcolor": "#DFE8F3",
            "linecolor": "#A2B1C6",
            "ticks": ""
           },
           "bgcolor": "white",
           "caxis": {
            "gridcolor": "#DFE8F3",
            "linecolor": "#A2B1C6",
            "ticks": ""
           }
          },
          "title": {
           "x": 0.05
          },
          "xaxis": {
           "automargin": true,
           "gridcolor": "#EBF0F8",
           "linecolor": "#EBF0F8",
           "ticks": "",
           "title": {
            "standoff": 15
           },
           "zerolinecolor": "#EBF0F8",
           "zerolinewidth": 2
          },
          "yaxis": {
           "automargin": true,
           "gridcolor": "#EBF0F8",
           "linecolor": "#EBF0F8",
           "ticks": "",
           "title": {
            "standoff": 15
           },
           "zerolinecolor": "#EBF0F8",
           "zerolinewidth": 2
          }
         }
        },
        "title": {
         "text": "Homicide & Non-Fatal Shootings Trends (2021) - Monthly View"
        },
        "xaxis": {
         "tickmode": "array",
         "ticktext": [
          "Jan",
          "Feb",
          "Mar",
          "Apr",
          "May",
          "Jun",
          "Jul",
          "Aug",
          "Sep",
          "Oct",
          "Nov",
          "Dec"
         ],
         "tickvals": [
          1,
          2,
          3,
          4,
          5,
          6,
          7,
          8,
          9,
          10,
          11,
          12
         ],
         "title": {
          "text": "Month"
         }
        },
        "yaxis": {
         "title": {
          "text": "Number of Victimizations"
         }
        }
       }
      }
     },
     "metadata": {},
     "output_type": "display_data"
    },
    {
     "data": {
      "application/vnd.jupyter.widget-view+json": {
       "model_id": "47dcb2d7a0d14eb4b037a7f191b433ee",
       "version_major": 2,
       "version_minor": 0
      },
      "text/plain": [
       "HBox(children=(Dropdown(description='Year:', index=2, options=(np.int32(2019), np.int32(2020), np.int32(2021),…"
      ]
     },
     "metadata": {},
     "output_type": "display_data"
    },
    {
     "data": {
      "application/vnd.jupyter.widget-view+json": {
       "model_id": "a0c5d3c06fc7493288571129563b4cd1",
       "version_major": 2,
       "version_minor": 0
      },
      "text/plain": [
       "Output()"
      ]
     },
     "metadata": {},
     "output_type": "display_data"
    }
   ],
   "source": [
    "import pandas as pd\n",
    "import plotly.graph_objects as go\n",
    "import ipywidgets as widgets\n",
    "from IPython.display import display\n",
    "\n",
    "# Load the CSV file\n",
    "file_path = \"Shootings.csv\"\n",
    "df = pd.read_csv(file_path, parse_dates=['DATE'], low_memory=False)\n",
    "\n",
    "# Extract year and month\n",
    "df['Year'] = df['DATE'].dt.year\n",
    "df['Month'] = df['DATE'].dt.month\n",
    "\n",
    "# Filter only years 2019-2024\n",
    "df_filtered = df[df['Year'].between(2019, 2024)]\n",
    "\n",
    "# Filter only HOMICIDE and NON-FATAL SHOOTINGS cases\n",
    "df_violent = df_filtered[df_filtered['VICTIMIZATION_PRIMARY'].str.contains(\"HOMICIDE|NON-FATAL\", na=False, case=False)]\n",
    "\n",
    "# Define regions based on wards\n",
    "ward_to_region = {\n",
    "    40: 'Far North Side', 48: 'Far North Side', 49: 'Far North Side', 50: 'Far North Side',\n",
    "    32: 'North Side', 43: 'North Side', 44: 'North Side', 46: 'North Side',\n",
    "    30: 'Northwest Side', 31: 'Northwest Side', 33: 'Northwest Side', 35: 'Northwest Side',\n",
    "    36: 'Northwest Side', 38: 'Northwest Side', 39: 'Northwest Side', 41: 'Northwest Side', 45: 'Northwest Side',\n",
    "    24: 'West Side', 27: 'West Side', 28: 'West Side', 37: 'West Side',\n",
    "    2: 'Central', 3: 'Central', 4: 'Central', 25: 'Central', 42: 'Central',\n",
    "    12: 'Southwest Side', 14: 'Southwest Side', 15: 'Southwest Side', 18: 'Southwest Side', 22: 'Southwest Side', 23: 'Southwest Side',\n",
    "    5: 'South Side', 6: 'South Side', 7: 'South Side', 8: 'South Side', 9: 'South Side', 10: 'South Side', 20: 'South Side', 21: 'South Side',\n",
    "    13: 'Far Southwest Side', 16: 'Far Southwest Side', 17: 'Far Southwest Side', 19: 'Far Southwest Side',\n",
    "    34: 'Far Southeast Side', 35: 'Far Southeast Side', 36: 'Far Southeast Side', 41: 'Far Southeast Side'\n",
    "}\n",
    "\n",
    "# Add a new column for region\n",
    "df_violent['Region'] = df_violent['WARD'].map(ward_to_region)\n",
    "\n",
    "# Handle missing or invalid values in the 'Region' column\n",
    "df_violent['Region'] = df_violent['Region'].fillna('Unknown')  # Replace NaN with 'Unknown'\n",
    "\n",
    "# Year dropdown selector\n",
    "year_selector = widgets.Dropdown(\n",
    "    options=sorted(df_violent['Year'].unique()),  # Sort years\n",
    "    value=2021,  # Default to 2021\n",
    "    description=\"Year:\",\n",
    "    style={'description_width': 'initial'}\n",
    ")\n",
    "\n",
    "# Create an output widget for updating the graph dynamically\n",
    "output = widgets.Output()\n",
    "\n",
    "def update_graph(year):\n",
    "    with output:\n",
    "        output.clear_output(wait=True)\n",
    "        fig = go.Figure()\n",
    "        \n",
    "        # Filter data by selected year\n",
    "        df_year = df_violent[df_violent['Year'] == year]\n",
    "        \n",
    "        # Group by Region and Month, then count the number of incidents\n",
    "        monthly_counts = df_year.groupby(['Region', 'Month']).size().unstack(level=0)\n",
    "        \n",
    "        # Months (1-12) and their labels\n",
    "        x_axis = list(range(1, 13))\n",
    "        x_labels = [\"Jan\", \"Feb\", \"Mar\", \"Apr\", \"May\", \"Jun\", \"Jul\", \"Aug\", \"Sep\", \"Oct\", \"Nov\", \"Dec\"]\n",
    "        \n",
    "        # Add a trace for each region\n",
    "        for region in monthly_counts.columns:\n",
    "            fig.add_trace(go.Scatter(\n",
    "                x=x_axis, y=monthly_counts[region],\n",
    "                mode='lines+markers',\n",
    "                name=region,\n",
    "                hoverinfo='x+y+name',\n",
    "                hovertemplate=\"<b>Region:</b> \" + region + \"<br><b>Month:</b> %{x}<br><b>Victimizations:</b> %{y}\",\n",
    "                line_shape='spline'  # Smooth line for better visualization\n",
    "            ))\n",
    "        \n",
    "        # Update layout\n",
    "        fig.update_layout(\n",
    "            title=f\"Homicide & Non-Fatal Shootings Trends ({year}) - Monthly View\",\n",
    "            xaxis_title=\"Month\",\n",
    "            xaxis=dict(tickmode='array', tickvals=x_axis, ticktext=x_labels),\n",
    "            yaxis_title=\"Number of Victimizations\",\n",
    "            template=\"plotly_white\",\n",
    "            hovermode=\"closest\"  # Ensures only the hovered line shows hover info\n",
    "        )\n",
    "        \n",
    "        fig.show()\n",
    "\n",
    "# Display widgets on the top left\n",
    "ui = widgets.HBox([year_selector])\n",
    "widgets.interactive(update_graph, year=year_selector)\n",
    "display(ui, output)"
   ]
  }
 ],
 "metadata": {
  "kernelspec": {
   "display_name": "cs371",
   "language": "python",
   "name": "python3"
  },
  "language_info": {
   "codemirror_mode": {
    "name": "ipython",
    "version": 3
   },
   "file_extension": ".py",
   "mimetype": "text/x-python",
   "name": "python",
   "nbconvert_exporter": "python",
   "pygments_lexer": "ipython3",
   "version": "3.10.14"
  }
 },
 "nbformat": 4,
 "nbformat_minor": 2
}
